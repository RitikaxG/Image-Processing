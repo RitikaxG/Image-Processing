{
 "cells": [
  {
   "cell_type": "code",
   "execution_count": 2,
   "id": "c855e2fc",
   "metadata": {},
   "outputs": [],
   "source": [
    "import cv2 as cv\n",
    "import numpy as np\n",
    "import matplotlib.pyplot as plt"
   ]
  },
  {
   "cell_type": "markdown",
   "id": "170ef08b",
   "metadata": {},
   "source": [
    "### 1. Working with WebCam"
   ]
  },
  {
   "cell_type": "code",
   "execution_count": 3,
   "id": "d1f2630d",
   "metadata": {},
   "outputs": [],
   "source": [
    "# Accessing the webcam\n",
    "# 0 : denotes the inbuilt camera in laptop\n",
    "cam = cv.VideoCapture(0)\n",
    "\n",
    "while True:\n",
    "    # _, :tells whether you are loading the image or not\n",
    "    _, img = cam.read()\n",
    "    flip = cv.flip(img,1)     # flips the image\n",
    "    \n",
    "    cv.imshow(\"Frame\",img)    # show actual frame\n",
    "    cv.imshow(\"Flipped\",flip) # show flipped frame\n",
    "    # Waiting time before displaying next frame\n",
    "    key = cv.waitKey(30)\n",
    "    # To stop the execution\n",
    "    if (key == 27): # i.e when escape key is pressed since 27 is ascii value for ESC\n",
    "    # Releasing the camera resources\n",
    "        cam.release()\n",
    "        break"
   ]
  },
  {
   "cell_type": "code",
   "execution_count": 4,
   "id": "67f0d6d6",
   "metadata": {},
   "outputs": [
    {
     "data": {
      "text/plain": [
       "(720, 1280, 3)"
      ]
     },
     "execution_count": 4,
     "metadata": {},
     "output_type": "execute_result"
    }
   ],
   "source": [
    "img.shape"
   ]
  },
  {
   "cell_type": "markdown",
   "id": "b37022e4",
   "metadata": {},
   "source": [
    "### 2. Crop and Flip the Frame"
   ]
  },
  {
   "cell_type": "code",
   "execution_count": 7,
   "id": "a42d8813",
   "metadata": {},
   "outputs": [],
   "source": [
    "cam = cv.VideoCapture(0)\n",
    "\n",
    "while True:\n",
    "    _, img = cam.read()   \n",
    "    # Cropping the image\n",
    "    frame = img[100:500,400:800,:]\n",
    "    cv.imshow(\"Frame\",img)    \n",
    "    cv.imshow(\"Cropped Frame\",frame)\n",
    "    \n",
    "    key = cv.waitKey(30)\n",
    "    \n",
    "    if (key == 27): \n",
    "        cam.release()\n",
    "        break"
   ]
  },
  {
   "cell_type": "code",
   "execution_count": 6,
   "id": "501b7d6f",
   "metadata": {},
   "outputs": [
    {
     "data": {
      "text/plain": [
       "(400, 1280, 3)"
      ]
     },
     "execution_count": 6,
     "metadata": {},
     "output_type": "execute_result"
    }
   ],
   "source": [
    "frame.shape"
   ]
  },
  {
   "cell_type": "markdown",
   "id": "3b9bdc4f",
   "metadata": {},
   "source": [
    "### Extracting Frames from a WebCam Video"
   ]
  },
  {
   "cell_type": "code",
   "execution_count": 3,
   "id": "1f99ef5c",
   "metadata": {},
   "outputs": [],
   "source": [
    "cam = cv.VideoCapture(0)\n",
    "\n",
    "while True:\n",
    "    _, img = cam.read()  \n",
    "    hsv = cv.cvtColor(img,cv.COLOR_BGR2HSV)\n",
    "    r = img[:,:,0]\n",
    "    g = img[:,:,1]\n",
    "    b = img[:,:,2]\n",
    "    \n",
    "    h = hsv[:,:,0]\n",
    "    s = hsv[:,:,1]\n",
    "    v = hsv[:,:,2]\n",
    "    \n",
    "    cv.imshow(\"Frame\",img)\n",
    "    # HSV : Hue , saturation, Value\n",
    "    # Hue : What is the main color that's dominating\n",
    "    # saturation : how bright that color is\n",
    "    # value : how wide that color is in terms of darkness\n",
    "    cv.imshow(\"HSV\"  ,hsv)\n",
    "    \n",
    "    cv.imshow(\"Red\"    ,r)\n",
    "    cv.imshow(\"Green\"  ,g)\n",
    "    cv.imshow(\"Blue\"   ,b)\n",
    "    cv.imshow(\"Hue\"    ,h)\n",
    "    cv.imshow(\"Saturation\"  ,s)\n",
    "    cv.imshow(\"Value\"  ,v)\n",
    "    key = cv.waitKey(30)\n",
    "    \n",
    "    if (key == 27): \n",
    "        cam.release()\n",
    "        break"
   ]
  },
  {
   "cell_type": "code",
   "execution_count": null,
   "id": "5a37cbfb",
   "metadata": {},
   "outputs": [],
   "source": []
  }
 ],
 "metadata": {
  "kernelspec": {
   "display_name": "Python 3 (ipykernel)",
   "language": "python",
   "name": "python3"
  },
  "language_info": {
   "codemirror_mode": {
    "name": "ipython",
    "version": 3
   },
   "file_extension": ".py",
   "mimetype": "text/x-python",
   "name": "python",
   "nbconvert_exporter": "python",
   "pygments_lexer": "ipython3",
   "version": "3.11.5"
  }
 },
 "nbformat": 4,
 "nbformat_minor": 5
}
