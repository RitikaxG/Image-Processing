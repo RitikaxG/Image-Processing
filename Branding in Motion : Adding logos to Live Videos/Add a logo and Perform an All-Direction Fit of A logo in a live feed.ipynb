{
 "cells": [
  {
   "cell_type": "code",
   "execution_count": 2,
   "id": "b17508ab",
   "metadata": {},
   "outputs": [],
   "source": [
    "import cv2 as cv\n",
    "import numpy as np"
   ]
  },
  {
   "cell_type": "markdown",
   "id": "8fd1280b",
   "metadata": {},
   "source": [
    "### 1. Adding logo on a live Video"
   ]
  },
  {
   "cell_type": "code",
   "execution_count": 17,
   "id": "ac85e879",
   "metadata": {},
   "outputs": [],
   "source": [
    "cam = cv.VideoCapture(0)\n",
    "logo = cv.imread('logo.jpg')\n",
    "logo = cv.resize(logo,(100,100))\n",
    "while True:\n",
    "    _, img = cam.read()\n",
    "    img = cv.flip(img,1)\n",
    "    \n",
    "    # Crop a particular area in the img and fit logo into it\n",
    "    img[615:715,1175:1275] = logo\n",
    "\n",
    "    cv.imshow(\"Frame\",img)\n",
    "    if(cv.waitKey(1)==27):\n",
    "        cam.release()\n",
    "        break"
   ]
  },
  {
   "cell_type": "markdown",
   "id": "3ee80818",
   "metadata": {},
   "source": [
    "### Aspect Ratio Analysis"
   ]
  },
  {
   "cell_type": "markdown",
   "id": "8e123e84",
   "metadata": {},
   "source": [
    "### Find out the percentage value for logo, margin and vacant space\n",
    "* Height (1%   - Margin | 7%  - Logo | 92%   - Vacant) # 720 px height to cut 50 px that is 7% of 720px\n",
    "* Width  (95.5% - Margin | 4%  - Logo | 0.5% - Vacant) # 1280 px "
   ]
  },
  {
   "cell_type": "markdown",
   "id": "fb158cf4",
   "metadata": {},
   "source": [
    "#### 1. Adding logo at Top Right"
   ]
  },
  {
   "cell_type": "code",
   "execution_count": 22,
   "id": "e3c9c7d1",
   "metadata": {},
   "outputs": [],
   "source": [
    "cam = cv.VideoCapture(0)\n",
    "logo = cv.imread('logo.jpg')\n",
    "logo = cv.resize(logo,(50,50))\n",
    "while True:\n",
    "    _, img = cam.read()\n",
    "    img = cv.flip(img,1)\n",
    "    \n",
    "    ht = img.shape[0]\n",
    "    wt = img.shape[1]\n",
    "    \n",
    "    margin_top  = int(ht/100)         # 1%\n",
    "    logo_height = int((ht/100)*7)     # 7% \n",
    "\n",
    "    margin_left = int((wt/100)*95.5)  # 95.5%\n",
    "    logo_width = int((wt/100)*4)      # 4% \n",
    "    \n",
    "    logo = cv.resize(logo,(logo_height,logo_height)) # logo width can also be taken instead of logo height\n",
    "\n",
    "    # Crop a particular area in the img and fit logo into it\n",
    "    img[margin_top:logo_height + margin_top,margin_left: margin_left + logo_height] = logo\n",
    "\n",
    "    cv.imshow(\"Frame\",img)\n",
    "    if(cv.waitKey(1)==27):\n",
    "        cam.release()\n",
    "        break"
   ]
  },
  {
   "cell_type": "code",
   "execution_count": 21,
   "id": "25ca4f0c",
   "metadata": {},
   "outputs": [
    {
     "data": {
      "text/plain": [
       "(7, 1222, 50, 51)"
      ]
     },
     "execution_count": 21,
     "metadata": {},
     "output_type": "execute_result"
    }
   ],
   "source": [
    "margin_top, margin_left, logo_height, logo_width"
   ]
  },
  {
   "cell_type": "markdown",
   "id": "33eac665",
   "metadata": {},
   "source": [
    "#### 2. Top Left\n",
    "* Height (1%   - Margin | 7%  - Logo | 92%   - Vacant)\n",
    "* Width  (0.5% - Margin | 4%  - Logo | 95.5% - Vacant)"
   ]
  },
  {
   "cell_type": "code",
   "execution_count": 9,
   "id": "114073a4",
   "metadata": {},
   "outputs": [],
   "source": [
    "cam = cv.VideoCapture(0)\n",
    "logo = cv.imread('logo.jpg')\n",
    "logo = cv.resize(logo,(50,50))\n",
    "while True:\n",
    "    _, img = cam.read()\n",
    "    img = cv.flip(img,1)\n",
    "    \n",
    "    ht = img.shape[0]\n",
    "    wt = img.shape[1]\n",
    "    \n",
    "    margin_top  = int(ht/100)         # 1%\n",
    "    logo_height = int((ht/100)*7)     # 7% \n",
    "\n",
    "    margin_left = int((wt/100)*0.5)  # 0.5%\n",
    "    logo_width = int((wt/100)*4)      # 4% \n",
    "    \n",
    "    logo = cv.resize(logo,(logo_height,logo_height)) # logo width can also be taken instead of logo height\n",
    "\n",
    "    # Crop a particular area in the img and fit logo into it\n",
    "    img[margin_top:logo_height + margin_top,margin_left: margin_left + logo_height] = logo\n",
    "\n",
    "    cv.imshow(\"Frame\",img)\n",
    "    if(cv.waitKey(1)==27):\n",
    "        cam.release()\n",
    "        break"
   ]
  },
  {
   "cell_type": "markdown",
   "id": "8a47763d",
   "metadata": {},
   "source": [
    "#### 3. Bottom Left\n",
    "* Height (92%   - Margin | 7%  - Logo | 1%   - Vacant)\n",
    "* Width  (0.5% - Margin | 4%  - Logo | 95.5% - Vacant)"
   ]
  },
  {
   "cell_type": "code",
   "execution_count": 4,
   "id": "96052cc0",
   "metadata": {},
   "outputs": [],
   "source": [
    "cam = cv.VideoCapture(0)\n",
    "logo = cv.imread('logo.jpg')\n",
    "logo = cv.resize(logo,(50,50))\n",
    "while True:\n",
    "    _, img = cam.read()\n",
    "    img = cv.flip(img,1)\n",
    "    \n",
    "    ht = img.shape[0]\n",
    "    wt = img.shape[1]\n",
    "    \n",
    "    margin_top  = int((ht/100)*92)         # 92%\n",
    "    logo_height = int((ht/100)*7)           # 7% \n",
    "\n",
    "    margin_left = int((wt/100)*0.5)         # 0.5%\n",
    "    logo_width = int((wt/100)*4)            # 4% \n",
    "    \n",
    "    logo = cv.resize(logo,(logo_height,logo_height)) # logo width can also be taken instead of logo height\n",
    "\n",
    "    # Crop a particular area in the img and fit logo into it\n",
    "    img[margin_top:logo_height + margin_top,margin_left: margin_left + logo_height] = logo\n",
    "\n",
    "    cv.imshow(\"Frame\",img)\n",
    "    if(cv.waitKey(1)==27):\n",
    "        cam.release()\n",
    "        break"
   ]
  },
  {
   "cell_type": "markdown",
   "id": "316058d1",
   "metadata": {},
   "source": [
    "#### 3. Bottom Right\n",
    "* Height (92%   - Margin | 7%  - Logo | 1%   - Vacant)\n",
    "* Width  (95.5% - Margin | 4%  - Logo | 0.5% - Vacant)"
   ]
  },
  {
   "cell_type": "code",
   "execution_count": 6,
   "id": "8354b67f",
   "metadata": {},
   "outputs": [],
   "source": [
    "cam = cv.VideoCapture(0)\n",
    "logo = cv.imread('logo.jpg')\n",
    "logo = cv.resize(logo,(50,50))\n",
    "while True:\n",
    "    _, img = cam.read()\n",
    "    img = cv.flip(img,1)\n",
    "    \n",
    "    ht = img.shape[0]\n",
    "    wt = img.shape[1]\n",
    "    \n",
    "    margin_top  = int((ht/100)*92)         # 92%\n",
    "    logo_height = int((ht/100)*7)          # 7% \n",
    "\n",
    "    margin_left = int((wt/100)*95.5)        # 95.5%\n",
    "    logo_width = int((wt/100)*4)            # 4% \n",
    "    \n",
    "    logo = cv.resize(logo,(logo_height,logo_height)) # logo width can also be taken instead of logo height\n",
    "\n",
    "    # Crop a particular area in the img and fit logo into it\n",
    "    img[margin_top:logo_height + margin_top,margin_left: margin_left + logo_height] = logo\n",
    "\n",
    "    cv.imshow(\"Frame\",img)\n",
    "    if(cv.waitKey(1)==27):\n",
    "        cam.release()\n",
    "        break"
   ]
  },
  {
   "cell_type": "markdown",
   "id": "84f45577",
   "metadata": {},
   "source": [
    "#### 5. Merging Everything"
   ]
  },
  {
   "cell_type": "code",
   "execution_count": 8,
   "id": "4b4e8ead",
   "metadata": {},
   "outputs": [],
   "source": [
    "cam = cv.VideoCapture(0)\n",
    "logo = cv.imread('logo.jpg')\n",
    "logo = cv.resize(logo,(50,50))\n",
    "while True:\n",
    "    _, img = cam.read()\n",
    "    img = cv.flip(img,1)\n",
    "    \n",
    "    ht = img.shape[0]\n",
    "    wt = img.shape[1]\n",
    "    \n",
    "    # Top Right\n",
    "    margin_top  = int(ht/100)         # 1%\n",
    "    logo_height = int((ht/100)*7)     # 7% \n",
    "    margin_left = int((wt/100)*95.5)  # 95.5%\n",
    "    logo_width = int((wt/100)*4)      # 4% \n",
    "    logo = cv.resize(logo,(logo_height,logo_height))\n",
    "    img[margin_top:logo_height + margin_top,margin_left: margin_left + logo_height] = logo\n",
    "\n",
    "    # Top Left\n",
    "    margin_top  = int(ht/100)         # 1%\n",
    "    logo_height = int((ht/100)*7)     # 7% \n",
    "    margin_left = int((wt/100)*0.5)   # 0.5%\n",
    "    logo_width = int((wt/100)*4)      # 4% \n",
    "    logo = cv.resize(logo,(logo_height,logo_height))\n",
    "    img[margin_top:logo_height + margin_top,margin_left: margin_left + logo_height] = logo\n",
    "    \n",
    "    # Bottom Left\n",
    "    margin_top  = int((ht/100)*92)    # 92%\n",
    "    logo_height = int((ht/100)*7)     # 7% \n",
    "    margin_left = int((wt/100)*0.5)   # 0.5%\n",
    "    logo_width = int((wt/100)*4)      # 4% \n",
    "    logo = cv.resize(logo,(logo_height,logo_height))\n",
    "    img[margin_top:logo_height + margin_top,margin_left: margin_left + logo_height] = logo\n",
    "    \n",
    "    # Bottom Right\n",
    "    margin_top  = int((ht/100)*92)     # 92%\n",
    "    logo_height = int((ht/100)*7)      # 7% \n",
    "    margin_left = int((wt/100)*95.5)   # 95.5%\n",
    "    logo_width = int((wt/100)*4)       # 4%\n",
    "    \n",
    "    \n",
    "    logo = cv.resize(logo,(logo_height,logo_height)) # logo width can also be taken instead of logo height\n",
    "\n",
    "    # Crop a particular area in the img and fit logo into it\n",
    "    img[margin_top:logo_height + margin_top,margin_left: margin_left + logo_height] = logo\n",
    "\n",
    "    cv.imshow(\"Frame\",img)\n",
    "    if(cv.waitKey(1)==27):\n",
    "        cam.release()\n",
    "        break"
   ]
  },
  {
   "cell_type": "code",
   "execution_count": null,
   "id": "3fd45064",
   "metadata": {},
   "outputs": [],
   "source": []
  }
 ],
 "metadata": {
  "kernelspec": {
   "display_name": "Python 3 (ipykernel)",
   "language": "python",
   "name": "python3"
  },
  "language_info": {
   "codemirror_mode": {
    "name": "ipython",
    "version": 3
   },
   "file_extension": ".py",
   "mimetype": "text/x-python",
   "name": "python",
   "nbconvert_exporter": "python",
   "pygments_lexer": "ipython3",
   "version": "3.11.5"
  }
 },
 "nbformat": 4,
 "nbformat_minor": 5
}
