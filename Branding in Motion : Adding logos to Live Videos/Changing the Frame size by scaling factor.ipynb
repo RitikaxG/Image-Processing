{
 "cells": [
  {
   "cell_type": "code",
   "execution_count": 1,
   "id": "28dddb13",
   "metadata": {},
   "outputs": [],
   "source": [
    "import cv2 as cv\n",
    "import numpy as np"
   ]
  },
  {
   "cell_type": "code",
   "execution_count": 2,
   "id": "a269545f",
   "metadata": {},
   "outputs": [],
   "source": [
    "cam  = cv.VideoCapture(0)\n",
    "logo = cv.imread('logo.jpg')\n",
    "\n",
    "scaling_factor = 1.0\n",
    "\n",
    "while True:\n",
    "    _, img = cam.read()\n",
    "    img = cv.flip(img,1)\n",
    "    # Cropping the frame\n",
    "#     img = img[:,:r]\n",
    "    \n",
    "    # Resizing the frame\n",
    "    img = cv.resize(img,(int(img.shape[1]* scaling_factor),int(img.shape[0]*scaling_factor)))\n",
    "    \n",
    "    ht = img.shape[0]\n",
    "    wt = img.shape[1]\n",
    "    \n",
    "    margin_top  = int(ht/100)         # 1%\n",
    "    logo_height = int((ht/100)*7)     # 7% \n",
    "\n",
    "    margin_left = int((wt/100)*95.5)  # 95.5%\n",
    "    logo_width = int((wt/100)*4)      # 4% \n",
    "    \n",
    "    side = min(logo_width,logo_height)\n",
    "    \n",
    "    logo = cv.resize(logo,(side,side)) # logo width can also be taken instead of logo height\n",
    "\n",
    "    # Crop a particular area in the img and fit logo into it\n",
    "    img[margin_top:side + margin_top,margin_left: margin_left + side] = logo\n",
    "\n",
    "    cv.imshow(\"Frame\",img)\n",
    "    # On pressing 's' decrease the size\n",
    "    if(cv.waitKey(1) == 115):\n",
    "        scaling_factor -= .1\n",
    "        \n",
    "    # On pressing 'w' increase the size\n",
    "    elif(cv.waitKey(1) == 119):\n",
    "        scaling_factor += .1\n",
    "        \n",
    "    elif(cv.waitKey(1)==27):\n",
    "        cam.release()\n",
    "        break\n",
    "    "
   ]
  },
  {
   "cell_type": "code",
   "execution_count": null,
   "id": "134ca0a7",
   "metadata": {},
   "outputs": [],
   "source": [
    "scaling_factor = 1.0\n",
    "int(720/scaling_factor)\n",
    "int(1280/scaling_factor)"
   ]
  }
 ],
 "metadata": {
  "kernelspec": {
   "display_name": "Python 3 (ipykernel)",
   "language": "python",
   "name": "python3"
  },
  "language_info": {
   "codemirror_mode": {
    "name": "ipython",
    "version": 3
   },
   "file_extension": ".py",
   "mimetype": "text/x-python",
   "name": "python",
   "nbconvert_exporter": "python",
   "pygments_lexer": "ipython3",
   "version": "3.11.5"
  }
 },
 "nbformat": 4,
 "nbformat_minor": 5
}
