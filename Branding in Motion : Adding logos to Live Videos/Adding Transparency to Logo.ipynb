{
 "cells": [
  {
   "cell_type": "code",
   "execution_count": 3,
   "id": "99b00a66",
   "metadata": {},
   "outputs": [],
   "source": [
    "import cv2 as cv\n",
    "import numpy as np"
   ]
  },
  {
   "cell_type": "code",
   "execution_count": 4,
   "id": "ae4c06c2",
   "metadata": {},
   "outputs": [],
   "source": [
    "cam  = cv.VideoCapture(0)\n",
    "logo = cv.imread('logo.jpg')\n",
    "\n",
    "while True:\n",
    "    _, img = cam.read()\n",
    "    img = cv.flip(img,1)    \n",
    "    \n",
    "    ht = img.shape[0]\n",
    "    wt = img.shape[1]\n",
    "    \n",
    "    margin_top  = int(ht/100)         # 1%\n",
    "    logo_height = int((ht/100)*7)     # 7% \n",
    "\n",
    "    margin_left = int((wt/100)*95.5)  # 95.5%\n",
    "    logo_width = int((wt/100)*4)      # 4% \n",
    "    \n",
    "    side = min(logo_width,logo_height)\n",
    "    \n",
    "    bg  = img[margin_top:side + margin_top,margin_left: margin_left + side].copy()\n",
    " \n",
    "    logo = cv.resize(logo,(side,side)) # logo width can also be taken instead of logo height\n",
    "    \n",
    "    final_logo = cv.addWeighted(bg,0.5,logo,0.5,0)\n",
    "\n",
    "    img[margin_top:side + margin_top,margin_left: margin_left + side] = final_logo\n",
    "\n",
    "    cv.imshow(\"Frame\",img)\n",
    "    cv.imshow(\"BG\",bg)\n",
    "  \n",
    "    if cv.waitKey(1) == 27:\n",
    "        cam.release()\n",
    "        break\n"
   ]
  },
  {
   "cell_type": "code",
   "execution_count": null,
   "id": "4b724edf",
   "metadata": {},
   "outputs": [],
   "source": []
  },
  {
   "cell_type": "code",
   "execution_count": null,
   "id": "74765c89",
   "metadata": {},
   "outputs": [],
   "source": []
  }
 ],
 "metadata": {
  "kernelspec": {
   "display_name": "Python 3 (ipykernel)",
   "language": "python",
   "name": "python3"
  },
  "language_info": {
   "codemirror_mode": {
    "name": "ipython",
    "version": 3
   },
   "file_extension": ".py",
   "mimetype": "text/x-python",
   "name": "python",
   "nbconvert_exporter": "python",
   "pygments_lexer": "ipython3",
   "version": "3.11.5"
  }
 },
 "nbformat": 4,
 "nbformat_minor": 5
}
