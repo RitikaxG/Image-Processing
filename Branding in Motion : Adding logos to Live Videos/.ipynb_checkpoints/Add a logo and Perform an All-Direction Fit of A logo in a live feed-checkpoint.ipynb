{
 "cells": [
  {
   "cell_type": "code",
   "execution_count": 1,
   "id": "4ce68233",
   "metadata": {},
   "outputs": [],
   "source": [
    "import cv2 as cv\n",
    "import numpy as np"
   ]
  },
  {
   "cell_type": "markdown",
   "id": "488d72ca",
   "metadata": {},
   "source": [
    "### 1. Adding logo on a live Video"
   ]
  },
  {
   "cell_type": "code",
   "execution_count": 17,
   "id": "0193477b",
   "metadata": {},
   "outputs": [],
   "source": [
    "cam = cv.VideoCapture(0)\n",
    "logo = cv.imread('logo.jpg')\n",
    "logo = cv.resize(logo,(100,100))\n",
    "while True:\n",
    "    _, img = cam.read()\n",
    "    img = cv.flip(img,1)\n",
    "    \n",
    "    # Crop a particular area in the img and fit logo into it\n",
    "    img[615:715,1175:1275] = logo\n",
    "\n",
    "    cv.imshow(\"Frame\",img)\n",
    "    if(cv.waitKey(1)==27):\n",
    "        cam.release()\n",
    "        break"
   ]
  },
  {
   "cell_type": "markdown",
   "id": "f1821016",
   "metadata": {},
   "source": [
    "### Aspect Ratio Analysis"
   ]
  },
  {
   "cell_type": "markdown",
   "id": "0432ab3e",
   "metadata": {},
   "source": [
    "### Find out the percentage value for logo, margin and vacant space\n",
    "* Height (1%   - Margin | 7%  - Logo | 92%   - Vacant) # 720 px height to cut 50 px that is 7% of 720px\n",
    "* Width  (95.5% - Margin | 4%  - Logo | 0.5% - Vacant) # 1280 px "
   ]
  },
  {
   "cell_type": "markdown",
   "id": "f4ef853d",
   "metadata": {},
   "source": [
    "#### 1. Adding logo at Top Right"
   ]
  },
  {
   "cell_type": "code",
   "execution_count": 22,
   "id": "014b25be",
   "metadata": {},
   "outputs": [],
   "source": [
    "cam = cv.VideoCapture(0)\n",
    "logo = cv.imread('logo.jpg')\n",
    "logo = cv.resize(logo,(50,50))\n",
    "while True:\n",
    "    _, img = cam.read()\n",
    "    img = cv.flip(img,1)\n",
    "    \n",
    "    ht = img.shape[0]\n",
    "    wt = img.shape[1]\n",
    "    \n",
    "    margin_top  = int(ht/100)         # 1%\n",
    "    logo_height = int((ht/100)*7)     # 7% \n",
    "\n",
    "    margin_left = int((wt/100)*95.5)  # 95.5%\n",
    "    logo_width = int((wt/100)*4)      # 4% \n",
    "    \n",
    "    logo = cv.resize(logo,(logo_height,logo_height)) # logo width can also be taken instead of logo height\n",
    "\n",
    "    # Crop a particular area in the img and fit logo into it\n",
    "    img[margin_top:logo_height + margin_top,margin_left: margin_left + logo_height] = logo\n",
    "\n",
    "    cv.imshow(\"Frame\",img)\n",
    "    if(cv.waitKey(1)==27):\n",
    "        cam.release()\n",
    "        break"
   ]
  },
  {
   "cell_type": "code",
   "execution_count": 21,
   "id": "c2706d50",
   "metadata": {},
   "outputs": [
    {
     "data": {
      "text/plain": [
       "(7, 1222, 50, 51)"
      ]
     },
     "execution_count": 21,
     "metadata": {},
     "output_type": "execute_result"
    }
   ],
   "source": [
    "margin_top, margin_left, logo_height, logo_width"
   ]
  },
  {
   "cell_type": "markdown",
   "id": "ba7c29ed",
   "metadata": {},
   "source": [
    "#### 2. Top Left\n",
    "* Height (1%   - Margin | 7%  - Logo | 92%   - Vacant)\n",
    "* Width  (0.5% - Margin | 4%  - Logo | 95.5% - Vacant)"
   ]
  },
  {
   "cell_type": "code",
   "execution_count": 23,
   "id": "e0b3ca92",
   "metadata": {},
   "outputs": [],
   "source": [
    "cam = cv.VideoCapture(0)\n",
    "logo = cv.imread('logo.jpg')\n",
    "logo = cv.resize(logo,(50,50))\n",
    "while True:\n",
    "    _, img = cam.read()\n",
    "    img = cv.flip(img,1)\n",
    "    \n",
    "    ht = img.shape[0]\n",
    "    wt = img.shape[1]\n",
    "    \n",
    "    margin_top  = int(ht/100)         # 1%\n",
    "    logo_height = int((ht/100)*7)     # 7% \n",
    "\n",
    "    margin_left = int((wt/100)*0.5)   # 0.5%\n",
    "    logo_width = int((wt/100)*4)      # 4% \n",
    "    \n",
    "    logo = cv.resize(logo,(logo_height,logo_height)) # logo width can also be taken instead of logo height\n",
    "\n",
    "    # Crop a particular area in the img and fit logo into it\n",
    "    img[margin_top:logo_height + margin_top,margin_left: margin_left + logo_height] = logo\n",
    "\n",
    "    cv.imshow(\"Frame\",img)\n",
    "    if(cv.waitKey(1)==27):\n",
    "        cam.release()\n",
    "        break"
   ]
  },
  {
   "cell_type": "markdown",
   "id": "708bed4d",
   "metadata": {},
   "source": [
    "#### 3. Bottom Left\n",
    "* Height (92%   - Margin | 7%  - Logo | 1%   - Vacant)\n",
    "* Width  (0.5% - Margin | 4%  - Logo | 95.5% - Vacant)"
   ]
  },
  {
   "cell_type": "code",
   "execution_count": 26,
   "id": "24e6705b",
   "metadata": {},
   "outputs": [],
   "source": [
    "cam = cv.VideoCapture(0)\n",
    "logo = cv.imread('logo.jpg')\n",
    "logo = cv.resize(logo,(50,50))\n",
    "while True:\n",
    "    _, img = cam.read()\n",
    "    img = cv.flip(img,1)\n",
    "    \n",
    "    ht = img.shape[0]\n",
    "    wt = img.shape[1]\n",
    "    \n",
    "    margin_top  = int((ht/100)*0.92)        # 92%\n",
    "    logo_height = int((ht/100)*7)           # 7% \n",
    "\n",
    "    margin_left = int((wt/100)*0.5)         # 0.5%\n",
    "    logo_width = int((wt/100)*4)            # 4% \n",
    "    \n",
    "    logo = cv.resize(logo,(logo_height,logo_height)) # logo width can also be taken instead of logo height\n",
    "\n",
    "    # Crop a particular area in the img and fit logo into it\n",
    "    img[margin_top:logo_height + margin_top,margin_left: margin_left + logo_height] = logo\n",
    "\n",
    "    cv.imshow(\"Frame\",img)\n",
    "    if(cv.waitKey(1)==27):\n",
    "        cam.release()\n",
    "        break"
   ]
  },
  {
   "cell_type": "code",
   "execution_count": null,
   "id": "aded3f83",
   "metadata": {},
   "outputs": [],
   "source": []
  }
 ],
 "metadata": {
  "kernelspec": {
   "display_name": "Python 3 (ipykernel)",
   "language": "python",
   "name": "python3"
  },
  "language_info": {
   "codemirror_mode": {
    "name": "ipython",
    "version": 3
   },
   "file_extension": ".py",
   "mimetype": "text/x-python",
   "name": "python",
   "nbconvert_exporter": "python",
   "pygments_lexer": "ipython3",
   "version": "3.11.5"
  }
 },
 "nbformat": 4,
 "nbformat_minor": 5
}
