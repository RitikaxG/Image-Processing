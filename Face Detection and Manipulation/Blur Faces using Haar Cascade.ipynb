{
 "cells": [
  {
   "cell_type": "code",
   "execution_count": 1,
   "id": "fdc2ec10",
   "metadata": {},
   "outputs": [],
   "source": [
    "import cv2 as cv\n",
    "import numpy as np"
   ]
  },
  {
   "cell_type": "code",
   "execution_count": 2,
   "id": "91e64ddd",
   "metadata": {},
   "outputs": [],
   "source": [
    "classifier = cv.CascadeClassifier('haarcascade_frontalface_default.xml')\n",
    "cam = cv.VideoCapture(0)\n",
    "\n",
    "# Initialize face variable outside the loop\n",
    "face = None  \n",
    "\n",
    "while True:\n",
    "    _, img = cam.read()\n",
    "    img = cv.flip(img, 1)\n",
    "    \n",
    "    # Detect all the faces\n",
    "    faces = classifier.detectMultiScale(img, 1.5, 2)\n",
    "    \n",
    "    # Initialize face to None in case no faces are detected\n",
    "    face = None\n",
    "    \n",
    "    # Going through each face detected and finding the face having maximum area\n",
    "    for f in faces:\n",
    "        if f[-1] == max(faces[:,-1]):\n",
    "            break\n",
    "    if (len(faces)>=1):\n",
    "        # Unpacking the face co-ordinates\n",
    "        x = f[0]\n",
    "        y = f[1]\n",
    "        w = f[2]\n",
    "        h = f[3]\n",
    "\n",
    "        # Parameter : top-left, bottom-right, color, width of rectangle\n",
    "        # cv.rectangle(img, (x, y), (x+w, y+h), (0, 1080, 0), 2)\n",
    "        \n",
    "        # Getting the face area from video Feed\n",
    "        face = img[y:y+h, x:x+w]\n",
    "        # Applying blur on the face\n",
    "        face = cv.blur(face, (16,16))\n",
    "        # Apply Blurred Face on Video Feed\n",
    "        img[y:y+h,x:x+w] = face\n",
    "\n",
    "    cv.imshow('Frame', img)\n",
    "    \n",
    "    # Check if face is not None before displaying it\n",
    "    if face is not None:\n",
    "        cv.imshow('Face', face)\n",
    "\n",
    "    if cv.waitKey(1) == 27:\n",
    "        cam.release()\n",
    "        break"
   ]
  },
  {
   "cell_type": "code",
   "execution_count": null,
   "id": "551763a0",
   "metadata": {},
   "outputs": [],
   "source": []
  }
 ],
 "metadata": {
  "kernelspec": {
   "display_name": "Python 3 (ipykernel)",
   "language": "python",
   "name": "python3"
  },
  "language_info": {
   "codemirror_mode": {
    "name": "ipython",
    "version": 3
   },
   "file_extension": ".py",
   "mimetype": "text/x-python",
   "name": "python",
   "nbconvert_exporter": "python",
   "pygments_lexer": "ipython3",
   "version": "3.11.5"
  }
 },
 "nbformat": 4,
 "nbformat_minor": 5
}
