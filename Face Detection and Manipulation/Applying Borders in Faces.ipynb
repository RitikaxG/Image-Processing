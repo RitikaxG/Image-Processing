{
 "cells": [
  {
   "cell_type": "code",
   "execution_count": 2,
   "id": "7a79ea60",
   "metadata": {},
   "outputs": [],
   "source": [
    "import cv2 as cv\n",
    "import numpy as np"
   ]
  },
  {
   "cell_type": "markdown",
   "id": "b67a6e2f",
   "metadata": {},
   "source": [
    "#### Creating balck square inplace of your face"
   ]
  },
  {
   "cell_type": "code",
   "execution_count": 4,
   "id": "e43290d9",
   "metadata": {},
   "outputs": [],
   "source": [
    "# Load the pre-trained Haar Cascade Classifier for face detection\n",
    "classifier = cv.CascadeClassifier('haarcascade_frontalface_default.xml')\n",
    "\n",
    "# Open a connection to the camera (0 indicates the default camera)\n",
    "cam = cv.VideoCapture(0)\n",
    "\n",
    "while True:\n",
    "    # Read a frame from the camera\n",
    "    _, img = cam.read()\n",
    "    img = cv.flip(img, 1)\n",
    "    \n",
    "    # Detect all the faces\n",
    "    faces = classifier.detectMultiScale(img, 1.5, 2)\n",
    "    # Initialize variables outside the loop\n",
    "    x, y, w, h = 0, 0, 0, 0\n",
    "    # Initialize face to None in case no faces are detected\n",
    "    face = None\n",
    "    \n",
    "    # Going through each face detected and finding the face having maximum area\n",
    "    for f in faces:\n",
    "        if f[-1] == max(faces[:, -1]):\n",
    "            break\n",
    "\n",
    "    x, y, w, h = f\n",
    "    \n",
    "    # Extract the face region from the frame\n",
    "    face = img[y:y+h, x:x+w]\n",
    "    \n",
    "    # Create a black image with the same size as the face region\n",
    "    black = np.zeros_like(face, dtype=np.uint8)\n",
    "    \n",
    "    # Replace the face region in the original image with the black image\n",
    "    img[y:y+h, x:x+w] = black\n",
    "\n",
    "    # Display the frame with the blacked-out face\n",
    "    cv.imshow('Frame', img)\n",
    "    \n",
    "    # Check if face is not None before displaying it\n",
    "    if face is not None:\n",
    "        cv.imshow('Face', face)\n",
    "\n",
    "    # Check for the 'Esc' key to exit the loop\n",
    "    if cv.waitKey(1) == 27:\n",
    "        cam.release()\n",
    "        cv.destroyAllWindows()\n",
    "        break\n"
   ]
  },
  {
   "cell_type": "markdown",
   "id": "f64a01c5",
   "metadata": {},
   "source": [
    "#### Creating a Circle"
   ]
  },
  {
   "cell_type": "code",
   "execution_count": 5,
   "id": "a087523d",
   "metadata": {},
   "outputs": [],
   "source": [
    "import cv2 as cv\n",
    "import numpy as np\n",
    "\n",
    "classifier = cv.CascadeClassifier('haarcascade_frontalface_default.xml')\n",
    "\n",
    "cam = cv.VideoCapture(0)\n",
    "\n",
    "while True:\n",
    "    _, img = cam.read()\n",
    "    img = cv.flip(img, 1)\n",
    "    \n",
    "    faces = classifier.detectMultiScale(img, 1.5, 2)\n",
    "    \n",
    "    face = None\n",
    "    \n",
    "    for f in faces:\n",
    "        if f[-1] == max(faces[:, -1]):\n",
    "            break\n",
    "\n",
    "    x, y, w, h = f\n",
    "    \n",
    "    circle_x = x+int(w/2)\n",
    "    circle_y = y+int(h/2)\n",
    "    cv.circle(img,(circle_x,circle_y),int(w/2),(110,10,90),-1)\n",
    "                         \n",
    "    cv.imshow('Frame', img)\n",
    "\n",
    "    if cv.waitKey(1) == 27:\n",
    "        cam.release()\n",
    "        cv.destroyAllWindows()\n",
    "        break\n"
   ]
  },
  {
   "cell_type": "code",
   "execution_count": null,
   "id": "2992d03d",
   "metadata": {},
   "outputs": [],
   "source": []
  }
 ],
 "metadata": {
  "kernelspec": {
   "display_name": "Python 3 (ipykernel)",
   "language": "python",
   "name": "python3"
  },
  "language_info": {
   "codemirror_mode": {
    "name": "ipython",
    "version": 3
   },
   "file_extension": ".py",
   "mimetype": "text/x-python",
   "name": "python",
   "nbconvert_exporter": "python",
   "pygments_lexer": "ipython3",
   "version": "3.11.5"
  }
 },
 "nbformat": 4,
 "nbformat_minor": 5
}
