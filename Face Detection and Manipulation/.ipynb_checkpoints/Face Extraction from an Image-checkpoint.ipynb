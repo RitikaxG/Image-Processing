{
 "cells": [
  {
   "cell_type": "code",
   "execution_count": 1,
   "id": "9c2a221b",
   "metadata": {},
   "outputs": [],
   "source": [
    "import numpy as np\n",
    "import cv2 as cv\n",
    "import os"
   ]
  },
  {
   "cell_type": "code",
   "execution_count": null,
   "id": "b9a9692a",
   "metadata": {},
   "outputs": [
    {
     "name": "stdout",
     "output_type": "stream",
     "text": [
      "faces/IMG_1.png is exported\n",
      "faces/IMG_2.png is exported\n",
      "faces/IMG_3.png is exported\n",
      "faces/IMG_4.png is exported\n",
      "faces/IMG_5.png is exported\n"
     ]
    }
   ],
   "source": [
    "img = cv.imread('Humans.jpg')\n",
    "\n",
    "classifier = cv.CascadeClassifier('haarcascade_frontalface_default.xml')\n",
    "faces = classifier.detectMultiScale(img,1.1,5)\n",
    "\n",
    "# Store the detected faces in faces folder\n",
    "def save(frame,folder_name):\n",
    "    img_name = len(os.listdir(folder_name)) + 1\n",
    "    img_name = folder_name + \"/IMG_\"+ str(img_name) + \".png\"\n",
    "    cv.imwrite(img_name,frame)\n",
    "    print(img_name,'is exported')\n",
    "    \n",
    "for(x,y,w,h) in faces:\n",
    "    face = img[y:y+h,x:x+w]\n",
    "    cv.imshow('Face',face)\n",
    "    \n",
    "    if cv.waitKey(0) == 13: # Save the image, 13:enter\n",
    "        save(face,'faces')\n",
    "        \n",
    "    elif cv.waitKey(0) == 127: # Skip the image , 127: Delete key\n",
    "        pass"
   ]
  },
  {
   "cell_type": "code",
   "execution_count": 8,
   "id": "4fb4fcd9",
   "metadata": {},
   "outputs": [
    {
     "name": "stdout",
     "output_type": "stream",
     "text": [
      "IMG_1.png\n"
     ]
    }
   ],
   "source": [
    "save(face,'faces/')"
   ]
  },
  {
   "cell_type": "code",
   "execution_count": null,
   "id": "a539c8e1",
   "metadata": {},
   "outputs": [],
   "source": []
  }
 ],
 "metadata": {
  "kernelspec": {
   "display_name": "Python 3 (ipykernel)",
   "language": "python",
   "name": "python3"
  },
  "language_info": {
   "codemirror_mode": {
    "name": "ipython",
    "version": 3
   },
   "file_extension": ".py",
   "mimetype": "text/x-python",
   "name": "python",
   "nbconvert_exporter": "python",
   "pygments_lexer": "ipython3",
   "version": "3.11.5"
  }
 },
 "nbformat": 4,
 "nbformat_minor": 5
}
