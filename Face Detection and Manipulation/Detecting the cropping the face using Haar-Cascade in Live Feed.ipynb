{
 "cells": [
  {
   "cell_type": "code",
   "execution_count": 2,
   "id": "2bfef7e0",
   "metadata": {},
   "outputs": [],
   "source": [
    "import cv2 as cv\n",
    "import numpy as np"
   ]
  },
  {
   "cell_type": "markdown",
   "id": "9141da04",
   "metadata": {},
   "source": [
    "#### 1. Detecting the Face"
   ]
  },
  {
   "cell_type": "code",
   "execution_count": 4,
   "id": "9f2a040b",
   "metadata": {},
   "outputs": [],
   "source": [
    "classifier = cv.CascadeClassifier('haarcascade_frontalface_default.xml')\n",
    "cam = cv.VideoCapture(0)\n",
    "while True:\n",
    "    _, img = cam.read()\n",
    "    img = cv.flip(img,1)\n",
    "\n",
    "    try:\n",
    "    # Returns the co-ordinates of the face: top-left, x-y,bottom-left,width-height\n",
    "    # Lower the value of scaleFactor : more no. of frames will be detected more computationally expensive it would be.\n",
    "    # minNeighbors : How many nearest neighbors we need to have to detect whether it's a face\n",
    "        faces = classifier.detectMultiScale(img,1.5,2)\n",
    "        for(x,y,w,h) in faces:\n",
    "            # Parameter : top-left, bottom-right, color, width of rectangle\n",
    "            cv.rectangle(img,(x,y),(x+w,y+h),(0,1080,0),2)\n",
    "    except:\n",
    "        pass\n",
    "    \n",
    "    cv.imshow('Frame',img)\n",
    "        \n",
    "    if cv.waitKey(1) == 27:\n",
    "        cam.release()\n",
    "        break"
   ]
  },
  {
   "cell_type": "code",
   "execution_count": 12,
   "id": "90a912da",
   "metadata": {},
   "outputs": [
    {
     "data": {
      "text/plain": [
       "((373, 783), (222, 632))"
      ]
     },
     "execution_count": 12,
     "metadata": {},
     "output_type": "execute_result"
    }
   ],
   "source": [
    "(x,x+w),(y,y+h)"
   ]
  },
  {
   "cell_type": "code",
   "execution_count": 14,
   "id": "421f7645",
   "metadata": {},
   "outputs": [
    {
     "data": {
      "text/plain": [
       "(347, 410, 3)"
      ]
     },
     "execution_count": 14,
     "metadata": {},
     "output_type": "execute_result"
    }
   ],
   "source": [
    "img[x:x+w,y:y+h].shape"
   ]
  },
  {
   "cell_type": "markdown",
   "id": "909f6cd1",
   "metadata": {},
   "source": [
    "#### 2. Cropping the Face"
   ]
  },
  {
   "cell_type": "code",
   "execution_count": 2,
   "id": "f1636dbf",
   "metadata": {},
   "outputs": [],
   "source": [
    "import cv2 as cv\n",
    "import numpy as np\n",
    "\n",
    "classifier = cv.CascadeClassifier('haarcascade_frontalface_default.xml')\n",
    "cam = cv.VideoCapture(0)\n",
    "\n",
    "# Initialize face variable outside the loop\n",
    "face = None  \n",
    "\n",
    "while True:\n",
    "    _, img = cam.read()\n",
    "    img = cv.flip(img, 1)\n",
    "    \n",
    "    # Detect all the faces\n",
    "    faces = classifier.detectMultiScale(img, 1.5, 2)\n",
    "    \n",
    "    # Initialize face to None in case no faces are detected\n",
    "    face = None\n",
    "    \n",
    "    # Going through each face detected and finding the face having maximum area\n",
    "    for f in faces:\n",
    "        if f[-1] == max(faces[:,-1]):\n",
    "            break\n",
    "    if (len(faces)>=1):\n",
    "        # Unpacking the face co-ordinates\n",
    "        x = f[0]\n",
    "        y = f[1]\n",
    "        w = f[2]\n",
    "        h = f[3]\n",
    "\n",
    "        # Parameter : top-left, bottom-right, color, width of rectangle\n",
    "        cv.rectangle(img, (x, y), (x+w, y+h), (0, 1080, 0), 2)\n",
    "        face = img[y:y+h, x:x+w]\n",
    "        \n",
    "        face = cv.resize(face, (256, 256))\n",
    "\n",
    "    cv.imshow('Frame', img)\n",
    "    \n",
    "    # Check if face is not None before displaying it\n",
    "    if face is not None:\n",
    "        cv.imshow('Face', face)\n",
    "\n",
    "    if cv.waitKey(1) == 27:\n",
    "        cam.release()\n",
    "        break\n"
   ]
  },
  {
   "cell_type": "code",
   "execution_count": null,
   "id": "253e9eba",
   "metadata": {},
   "outputs": [],
   "source": []
  }
 ],
 "metadata": {
  "kernelspec": {
   "display_name": "Python 3 (ipykernel)",
   "language": "python",
   "name": "python3"
  },
  "language_info": {
   "codemirror_mode": {
    "name": "ipython",
    "version": 3
   },
   "file_extension": ".py",
   "mimetype": "text/x-python",
   "name": "python",
   "nbconvert_exporter": "python",
   "pygments_lexer": "ipython3",
   "version": "3.11.5"
  }
 },
 "nbformat": 4,
 "nbformat_minor": 5
}
