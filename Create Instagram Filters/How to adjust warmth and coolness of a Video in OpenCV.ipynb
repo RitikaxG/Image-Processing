{
 "cells": [
  {
   "cell_type": "code",
   "execution_count": 3,
   "id": "83d9b7ad",
   "metadata": {},
   "outputs": [],
   "source": [
    "import cv2 as cv\n",
    "import numpy as np\n",
    "import matplotlib.pyplot as plt"
   ]
  },
  {
   "cell_type": "markdown",
   "id": "c0d04dd1",
   "metadata": {},
   "source": [
    "### Adding cool tone\n",
    "* Adding a bluish color, since it represents cool tone"
   ]
  },
  {
   "cell_type": "markdown",
   "id": "555ebc5b",
   "metadata": {},
   "source": [
    "#### 1. Creating Blue Background"
   ]
  },
  {
   "cell_type": "code",
   "execution_count": 10,
   "id": "04a90582",
   "metadata": {},
   "outputs": [],
   "source": [
    "blue = [247,207,139]\n",
    "background = []\n",
    "for i in range(720):\n",
    "    temp = []\n",
    "    for j in range(1280):\n",
    "        temp.append(blue)\n",
    "    background.append(temp)\n",
    "    \n",
    "background = np.array(background).astype(np.uint8)"
   ]
  },
  {
   "cell_type": "markdown",
   "id": "e84d764a",
   "metadata": {},
   "source": [
    "#### 2. Merging Blue Background with live feed"
   ]
  },
  {
   "cell_type": "code",
   "execution_count": 14,
   "id": "f97649f6",
   "metadata": {},
   "outputs": [],
   "source": [
    "cam = cv.VideoCapture(0)\n",
    "while True:\n",
    "    _, img = cam.read()\n",
    "    img = cv.flip(img,1)\n",
    "    \n",
    "    # Converting both img to same shape and size\n",
    "    img = np.array(img).astype(np.uint8)\n",
    "    # Blend\n",
    "    # Paramters : src img , intensity of 1st img, merged img, intensity of merged img, gamma\n",
    "    # Intensity of one img should be increased and other should be decreased and vica versa\n",
    "    merged = cv.addWeighted(img,.8,background,.15,0)\n",
    "    \n",
    "    cv.imshow(\"Original\",img)\n",
    "    cv.imshow(\"Merged\",merged)\n",
    "    \n",
    "    if cv.waitKey(1) == 27:\n",
    "        cam.release()\n",
    "        break"
   ]
  },
  {
   "cell_type": "code",
   "execution_count": 6,
   "id": "ffe65067",
   "metadata": {},
   "outputs": [
    {
     "data": {
      "text/plain": [
       "(720, 1280, 3)"
      ]
     },
     "execution_count": 6,
     "metadata": {},
     "output_type": "execute_result"
    }
   ],
   "source": [
    "img.shape"
   ]
  },
  {
   "cell_type": "code",
   "execution_count": 8,
   "id": "baac1d59",
   "metadata": {},
   "outputs": [
    {
     "data": {
      "text/plain": [
       "(720, 1280, 3)"
      ]
     },
     "execution_count": 8,
     "metadata": {},
     "output_type": "execute_result"
    }
   ],
   "source": [
    "background.shape"
   ]
  },
  {
   "cell_type": "markdown",
   "id": "d8469db4",
   "metadata": {},
   "source": [
    "### Creating a warm tone\n",
    "* Adding a yellowish color"
   ]
  },
  {
   "cell_type": "markdown",
   "id": "97fe3591",
   "metadata": {},
   "source": [
    "#### 1. Creating feed with Warmer Tone"
   ]
  },
  {
   "cell_type": "code",
   "execution_count": 15,
   "id": "d4985a63",
   "metadata": {},
   "outputs": [],
   "source": [
    "yellow = [108,222,249]\n",
    "background = []\n",
    "for i in range(720):\n",
    "    temp = []\n",
    "    for j in range(1280):\n",
    "        temp.append(yellow)\n",
    "    background.append(temp)\n",
    "    \n",
    "background = np.array(background).astype(np.uint8)"
   ]
  },
  {
   "cell_type": "code",
   "execution_count": 17,
   "id": "7571c9a8",
   "metadata": {},
   "outputs": [],
   "source": [
    "cam = cv.VideoCapture(0)\n",
    "while True:\n",
    "    _, img = cam.read()\n",
    "    img = cv.flip(img,1)\n",
    "\n",
    "    img = np.array(img).astype(np.uint8)\n",
    "    \n",
    "    merged = cv.addWeighted(img,.9,background,.15,0)\n",
    "    \n",
    "    cv.imshow(\"Original\",img)\n",
    "    cv.imshow(\"Merged\",merged)\n",
    "    \n",
    "    if cv.waitKey(1) == 27:\n",
    "        cam.release()\n",
    "        break"
   ]
  },
  {
   "cell_type": "markdown",
   "id": "23e2fa97",
   "metadata": {},
   "source": [
    "### Creating both filters"
   ]
  },
  {
   "cell_type": "code",
   "execution_count": 18,
   "id": "ad2f3f43",
   "metadata": {},
   "outputs": [],
   "source": [
    "yellow = [108,222,249]\n",
    "yellow_background = []\n",
    "for i in range(720):\n",
    "    temp = []\n",
    "    for j in range(1280):\n",
    "        temp.append(yellow)\n",
    "    yellow_background.append(temp)\n",
    "yellow_background = np.array(yellow_background).astype(np.uint8)\n",
    "\n",
    "blue = [247,207,139]\n",
    "blue_background = []\n",
    "for i in range(720):\n",
    "    temp = []\n",
    "    for j in range(1280):\n",
    "        temp.append(blue)\n",
    "    blue_background.append(temp)\n",
    "blue_background = np.array(blue_background).astype(np.uint8)\n",
    "\n",
    "cam = cv.VideoCapture(0)\n",
    "while True:\n",
    "    _, img = cam.read()\n",
    "    img = cv.flip(img,1)\n",
    "\n",
    "    img = np.array(img).astype(np.uint8)\n",
    "    merged_yellow = cv.addWeighted(img,.9,yellow_background,.15,0)\n",
    "    merged_blue = cv.addWeighted(img,.9,blue_background,.15,0)\n",
    "    \n",
    "    cv.imshow(\"Original\",img)\n",
    "    cv.imshow(\"Yellow\",merged_yellow)\n",
    "    cv.imshow(\"Blue  \",merged_blue)\n",
    "    \n",
    "    if cv.waitKey(1) == 27:\n",
    "        cam.release()\n",
    "        break"
   ]
  },
  {
   "cell_type": "code",
   "execution_count": null,
   "id": "6f385c2d",
   "metadata": {},
   "outputs": [],
   "source": []
  }
 ],
 "metadata": {
  "kernelspec": {
   "display_name": "Python 3 (ipykernel)",
   "language": "python",
   "name": "python3"
  },
  "language_info": {
   "codemirror_mode": {
    "name": "ipython",
    "version": 3
   },
   "file_extension": ".py",
   "mimetype": "text/x-python",
   "name": "python",
   "nbconvert_exporter": "python",
   "pygments_lexer": "ipython3",
   "version": "3.11.5"
  }
 },
 "nbformat": 4,
 "nbformat_minor": 5
}
