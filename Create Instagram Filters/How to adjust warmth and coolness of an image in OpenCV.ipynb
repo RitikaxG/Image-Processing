{
 "cells": [
  {
   "cell_type": "code",
   "execution_count": 5,
   "id": "854ed214",
   "metadata": {},
   "outputs": [],
   "source": [
    "import cv2 as cv\n",
    "import numpy as np\n",
    "import matplotlib.pyplot as plt"
   ]
  },
  {
   "cell_type": "markdown",
   "id": "dac34d9f",
   "metadata": {},
   "source": [
    "### 1. Adding Tone"
   ]
  },
  {
   "cell_type": "code",
   "execution_count": 3,
   "id": "535207db",
   "metadata": {},
   "outputs": [],
   "source": [
    "def add_tone(img_path,color,a,b):\n",
    "    background = []\n",
    "\n",
    "    img = cv.imread(img_path)\n",
    "    cols = img.shape[1]\n",
    "    rows = img.shape[0]\n",
    "    # Creating a blue background of same shape as that of an image\n",
    "    for i in range(rows):\n",
    "        temp = []\n",
    "        for j in range(cols):\n",
    "            temp.append(color)\n",
    "        background.append(temp)\n",
    "\n",
    "    background = np.array(background).astype(np.uint8)\n",
    "\n",
    "    ## Merging the image\n",
    "    final = cv.addWeighted(img,a,background,b,0)\n",
    "\n",
    "    cv.imshow(\"Original\",img)\n",
    "    cv.imshow(\"Processed\",final)\n",
    "\n",
    "    cv.waitKey(0)"
   ]
  },
  {
   "cell_type": "code",
   "execution_count": 15,
   "id": "bef59100",
   "metadata": {},
   "outputs": [
    {
     "data": {
      "text/plain": [
       "(6720, 4480, 3)"
      ]
     },
     "execution_count": 15,
     "metadata": {},
     "output_type": "execute_result"
    }
   ],
   "source": [
    "background.shape"
   ]
  },
  {
   "cell_type": "code",
   "execution_count": 20,
   "id": "569cc4ad",
   "metadata": {},
   "outputs": [],
   "source": [
    "add_tone('pic.jpg',[255,20,11],.9,.1)"
   ]
  },
  {
   "cell_type": "code",
   "execution_count": 21,
   "id": "3a72fd19",
   "metadata": {},
   "outputs": [],
   "source": [
    "add_tone('pic.jpg',[10,200,11],.9,.1)"
   ]
  },
  {
   "cell_type": "code",
   "execution_count": 8,
   "id": "59a0500f",
   "metadata": {},
   "outputs": [],
   "source": [
    "add_tone('Twin2.png',[0,0,0],0.8,0.1)"
   ]
  },
  {
   "cell_type": "code",
   "execution_count": null,
   "id": "538fde73",
   "metadata": {},
   "outputs": [],
   "source": []
  }
 ],
 "metadata": {
  "kernelspec": {
   "display_name": "Python 3 (ipykernel)",
   "language": "python",
   "name": "python3"
  },
  "language_info": {
   "codemirror_mode": {
    "name": "ipython",
    "version": 3
   },
   "file_extension": ".py",
   "mimetype": "text/x-python",
   "name": "python",
   "nbconvert_exporter": "python",
   "pygments_lexer": "ipython3",
   "version": "3.11.5"
  }
 },
 "nbformat": 4,
 "nbformat_minor": 5
}
