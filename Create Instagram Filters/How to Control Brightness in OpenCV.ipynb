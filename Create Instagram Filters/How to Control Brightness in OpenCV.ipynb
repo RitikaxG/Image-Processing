{
 "cells": [
  {
   "cell_type": "code",
   "execution_count": 2,
   "id": "e9c22a42",
   "metadata": {},
   "outputs": [],
   "source": [
    "import cv2 as cv\n",
    "import numpy as np\n",
    "import matplotlib.pyplot as plt"
   ]
  },
  {
   "cell_type": "markdown",
   "id": "0ffc692b",
   "metadata": {},
   "source": [
    "* Brightness : Increase the colour light(white:255) and dark(black:0). Changing the pixel values by a particular factor."
   ]
  },
  {
   "cell_type": "markdown",
   "id": "03dc5493",
   "metadata": {},
   "source": [
    "### Increasing Brightness"
   ]
  },
  {
   "cell_type": "code",
   "execution_count": 25,
   "id": "5dd1485c",
   "metadata": {},
   "outputs": [],
   "source": [
    "# Value should be in float\n",
    "pixels = float(50)\n",
    "cam = cv.VideoCapture(0)\n",
    "while True:\n",
    "    _, img = cam.read()\n",
    "    img = cv.flip(img,1)\n",
    "    \n",
    "    img_1 = img + pixels\n",
    "  \n",
    "    # If the values are less than zero replace it with zero\n",
    "    img_1[img_1 < 0] = 0\n",
    "    # If the value is greater than 255 replace it with 255\n",
    "    img_1[img_1>255] = 255\n",
    "    \n",
    "    img_1 = img_1.astype(np.uint8)\n",
    "    \n",
    "    img_2 = img + (2*pixels)\n",
    "    img_2[img_2 < 0] = 0\n",
    "    img_2[img_2 > 255] = 255\n",
    "    img_2 = img_2.astype(np.uint8)\n",
    "    \n",
    "    img_3 = img + (3*pixels)\n",
    "    img_3[img_3 < 0] = 0\n",
    "    img_3[img_3 > 255] = 255\n",
    "    img_3 = img_3.astype(np.uint8)\n",
    "    \n",
    "    \n",
    "    cv.imshow(\"Original\",img)\n",
    "    cv.imshow(\"Filter-1\",img_1)\n",
    "    cv.imshow(\"Filter-2\",img_2)\n",
    "    cv.imshow(\"Filter-3\",img_3)\n",
    "    \n",
    "    if cv.waitKey(1) == 27:\n",
    "        cam.release()\n",
    "        break"
   ]
  },
  {
   "cell_type": "code",
   "execution_count": 5,
   "id": "e892f334",
   "metadata": {},
   "outputs": [
    {
     "data": {
      "text/plain": [
       "(720, 1280, 3)"
      ]
     },
     "execution_count": 5,
     "metadata": {},
     "output_type": "execute_result"
    }
   ],
   "source": [
    "img.shape"
   ]
  },
  {
   "cell_type": "code",
   "execution_count": 6,
   "id": "7ab3944d",
   "metadata": {},
   "outputs": [
    {
     "data": {
      "text/plain": [
       "169.50684389467594"
      ]
     },
     "execution_count": 6,
     "metadata": {},
     "output_type": "execute_result"
    }
   ],
   "source": [
    "img.mean()"
   ]
  },
  {
   "cell_type": "code",
   "execution_count": 9,
   "id": "df91d711",
   "metadata": {},
   "outputs": [
    {
     "data": {
      "text/plain": [
       "154.95415870949074"
      ]
     },
     "execution_count": 9,
     "metadata": {},
     "output_type": "execute_result"
    }
   ],
   "source": [
    "# Reducing all the pixel values by 20\n",
    "(img - 20).mean()"
   ]
  },
  {
   "cell_type": "markdown",
   "id": "8172c022",
   "metadata": {},
   "source": [
    "## Reducing the Brightness"
   ]
  },
  {
   "cell_type": "code",
   "execution_count": 26,
   "id": "ae039387",
   "metadata": {},
   "outputs": [],
   "source": [
    "\n",
    "pixels = float(50)\n",
    "cam = cv.VideoCapture(0)\n",
    "while True:\n",
    "    _, img = cam.read()\n",
    "    img = cv.flip(img,1)\n",
    "    \n",
    "    img_1 = img - pixels\n",
    "    img_1[img_1 < 0] = 0\n",
    "    img_1[img_1>255] = 255\n",
    "    img_1 = img_1.astype(np.uint8)\n",
    "    \n",
    "    img_2 = img - (2*pixels)\n",
    "    img_2[img_2 < 0] = 0\n",
    "    img_2[img_2 > 255] = 255\n",
    "    img_2 = img_2.astype(np.uint8)\n",
    "    \n",
    "    img_3 = img - (3*pixels)\n",
    "    img_3[img_3 < 0] = 0\n",
    "    img_3[img_3 > 255] = 255\n",
    "    img_3 = img_3.astype(np.uint8)\n",
    "    \n",
    "    \n",
    "    cv.imshow(\"Original\",img)\n",
    "    cv.imshow(\"Filter-1\",img_1)\n",
    "    cv.imshow(\"Filter-2\",img_2)\n",
    "    cv.imshow(\"Filter-3\",img_3)\n",
    "    \n",
    "    if cv.waitKey(1) == 27:\n",
    "        cam.release()\n",
    "        break"
   ]
  },
  {
   "cell_type": "code",
   "execution_count": null,
   "id": "9087f428",
   "metadata": {},
   "outputs": [],
   "source": []
  }
 ],
 "metadata": {
  "kernelspec": {
   "display_name": "Python 3 (ipykernel)",
   "language": "python",
   "name": "python3"
  },
  "language_info": {
   "codemirror_mode": {
    "name": "ipython",
    "version": 3
   },
   "file_extension": ".py",
   "mimetype": "text/x-python",
   "name": "python",
   "nbconvert_exporter": "python",
   "pygments_lexer": "ipython3",
   "version": "3.11.5"
  }
 },
 "nbformat": 4,
 "nbformat_minor": 5
}
