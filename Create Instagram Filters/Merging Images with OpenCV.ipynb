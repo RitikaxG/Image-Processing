{
 "cells": [
  {
   "cell_type": "code",
   "execution_count": 1,
   "id": "b2e4706a",
   "metadata": {},
   "outputs": [],
   "source": [
    "import cv2 as cv\n",
    "import numpy as np\n",
    "import matplotlib.pyplot as plt"
   ]
  },
  {
   "cell_type": "code",
   "execution_count": 2,
   "id": "be442de5",
   "metadata": {},
   "outputs": [],
   "source": [
    "def merge(foreground_path,background_path,a,b):\n",
    "    background = []\n",
    "    img        = cv.imread(foreground_path)\n",
    "    background = cv.imread(background_path)\n",
    "    \n",
    "    #background = cv.flip(background,0)\n",
    "    \n",
    "    # Changing the shape of background to that of img\n",
    "    background = cv.resize(background,(img.shape[1],img.shape[0]))\n",
    " \n",
    "    final = cv.addWeighted(img,a,background,b,0)\n",
    "    \n",
    "    cv.imshow('Original',img)\n",
    "    cv.waitKey(0)\n",
    "    \n",
    "    cv.imshow('Processed',final)\n",
    "    cv.waitKey(0)\n",
    "    "
   ]
  },
  {
   "cell_type": "code",
   "execution_count": 6,
   "id": "fea2fec1",
   "metadata": {},
   "outputs": [
    {
     "name": "stderr",
     "output_type": "stream",
     "text": [
      "1   HIToolbox                           0x0000000197a5c5c8 _ZN15MenuBarInstance22EnsureAutoShowObserverEv + 120\n",
      "2   HIToolbox                           0x0000000197a5c188 _ZN15MenuBarInstance14EnableAutoShowEv + 60\n",
      "3   HIToolbox                           0x00000001979c98bc _ZN15MenuBarInstance21UpdateAggregateUIModeE21MenuBarAnimationStylehhh + 1184\n",
      "4   HIToolbox                           0x0000000197a5c004 _ZN15MenuBarInstance19SetFullScreenUIModeEjj + 180\n",
      "5   AppKit                              0x0000000191852008 -[NSApplication _setPresentationOptions:instance:flags:] + 956\n",
      "6   AppKit                              0x00000001916e7bb0 -[NSApplication _updateFullScreenPresentationOptionsForInstance:] + 404\n",
      "7   CoreFoundation                      0x000000018e309570 __CFNOTIFICATIONCENTER_IS_CALLING_OUT_TO_AN_OBSERVER__ + 148\n",
      "8   CoreFoundation                      0x000000018e3a7054 ___CFXRegistrationPost_block_invoke + 88\n",
      "9   CoreFoundation                      0x000000018e3a6f9c _CFXRegistrationPost + 440\n",
      "10  CoreFoundation                      0x000000018e2dab74 _CFXNotificationPost + 708\n",
      "11  Foundation                          0x000000018f1c872c -[NSNotificationCenter postNotificationName:object:userInfo:] + 88\n",
      "12  AppKit                              0x000000019185258c spacesNotificationHandler + 96\n",
      "13  SkyLight                            0x0000000192f3c4dc _ZN12_GLOBAL__N_123notify_datagram_handlerEj15CGSDatagramTypePvmS1_ + 896\n",
      "14  SkyLight                            0x0000000192f3b0d8 CGSSnarfAndDispatchDatagrams + 808\n",
      "15  SkyLight                            0x0000000193262a8c SLSGetNextEventRecordInternal + 344\n",
      "16  SkyLight                            0x00000001930645a4 SLEventCreateNextEvent + 16\n",
      "17  HIToolbox                           0x00000001979f4b58 _ZL38PullEventsFromWindowServerOnConnectionjhP17__CFMachPortBoost + 60\n",
      "18  HIToolbox                           0x00000001979f4ae0 _ZL14MessageHandlerP12__CFMachPortPvlS1_ + 60\n",
      "19  CoreFoundation                      0x000000018e344420 __CFMachPortPerform + 260\n",
      "20  CoreFoundation                      0x000000018e314fa8 __CFRUNLOOP_IS_CALLING_OUT_TO_A_SOURCE1_PERFORM_FUNCTION__ + 60\n",
      "21  CoreFoundation                      0x000000018e314ec8 __CFRunLoopDoSource1 + 520\n",
      "22  CoreFoundation                      0x000000018e3138b4 __CFRunLoopRun + 2264\n",
      "23  CoreFoundation                      0x000000018e312888 CFRunLoopRunSpecific + 612\n",
      "24  HIToolbox                           0x00000001979e7fa0 RunCurrentEventLoopInMode + 292\n",
      "25  HIToolbox                           0x00000001979e7c30 ReceiveNextEventCommon + 236\n",
      "26  HIToolbox                           0x00000001979e7b2c _BlockUntilNextEventMatchingListInModeWithFilter + 72\n",
      "27  AppKit                              0x0000000191594424 _DPSNextEvent + 632\n",
      "28  AppKit                              0x00000001915935b4 -[NSApplication(NSEvent) _nextEventMatchingEventMask:untilDate:inMode:dequeue:] + 728\n",
      "29  cv2.abi3.so                         0x0000000135f34678 cvWaitKey + 684\n",
      "30  cv2.abi3.so                         0x0000000135f2e63c _ZN2cv9waitKeyExEi + 168\n",
      "31  cv2.abi3.so                         0x0000000135f2e734 _ZN2cv7waitKeyEi + 48\n",
      "32  cv2.abi3.so                         0x0000000135224868 _ZL19pyopencv_cv_waitKeyP7_objectS0_S0_ + 148\n",
      "33  python3.11                          0x00000001050c5fb0 cfunction_call + 60\n",
      "34  python3.11                          0x00000001051a9034 _PyEval_EvalFrameDefault + 197300\n",
      "35  python3.11                          0x000000010517630c _PyEval_Vector + 464\n",
      "36  python3.11                          0x00000001051760ac PyEval_EvalCode + 248\n",
      "37  python3.11                          0x00000001051712e8 builtin_exec + 332\n",
      "38  python3.11                          0x00000001051aca88 _PyEval_EvalFrameDefault + 212232\n",
      "39  python3.11                          0x0000000105080310 gen_send_ex2 + 204\n",
      "40  python3.11                          0x0000000105183a68 _PyEval_EvalFrameDefault + 44264\n",
      "41  python3.11                          0x0000000105080310 gen_send_ex2 + 204\n",
      "42  python3.11                          0x0000000105183a68 _PyEval_EvalFrameDefault + 44264\n",
      "43  python3.11                          0x0000000105080310 gen_send_ex2 + 204\n",
      "44  python3.11                          0x0000000105080a68 gen_send + 52\n",
      "45  python3.11                          0x0000000105074fd4 method_vectorcall_O + 104\n",
      "46  python3.11                          0x00000001051a8e40 _PyEval_EvalFrameDefault + 196800\n",
      "47  python3.11                          0x000000010506383c _PyFunction_Vectorcall + 476\n",
      "48  python3.11                          0x000000010506950c method_vectorcall + 272\n",
      "49  python3.11                          0x00000001051add40 _PyEval_EvalFrameDefault + 217024\n",
      "50  python3.11                          0x0000000105080310 gen_send_ex2 + 204\n",
      "51  python3.11                          0x0000000105183a68 _PyEval_EvalFrameDefault + 44264\n",
      "52  python3.11                          0x0000000105080310 gen_send_ex2 + 204\n",
      "53  python3.11                          0x0000000105183a68 _PyEval_EvalFrameDefault + 44264\n",
      "54  python3.11                          0x0000000105080310 gen_send_ex2 + 204\n",
      "55  python3.11                          0x0000000105183a68 _PyEval_EvalFrameDefault + 44264\n",
      "56  python3.11                          0x0000000105080310 gen_send_ex2 + 204\n",
      "57  python3.11                          0x0000000105183a68 _PyEval_EvalFrameDefault + 44264\n",
      "58  python3.11                          0x0000000105080310 gen_send_ex2 + 204\n",
      "59  _asyncio.cpython-311-darwin.so      0x0000000105d88370 task_step_impl + 440\n",
      "60  _asyncio.cpython-311-darwin.so      0x0000000105d88128 task_step + 68\n",
      "61  _asyncio.cpython-311-darwin.so      0x0000000105d88c30 task_wakeup + 136\n",
      "62  python3.11                          0x00000001050c6980 cfunction_vectorcall_O + 92\n",
      "63  python3.11                          0x00000001051d1ef8 _PyObject_VectorcallTstate.4603 + 88\n",
      "64  python3.11                          0x00000001051d1dbc context_run + 92\n",
      "65  python3.11                          0x00000001050c6c60 cfunction_vectorcall_FASTCALL_KEYWORDS + 76\n",
      "66  python3.11                          0x00000001051addec _PyEval_EvalFrameDefault + 217196\n",
      "67  python3.11                          0x000000010517630c _PyEval_Vector + 464\n",
      "68  python3.11                          0x00000001051760ac PyEval_EvalCode + 248\n",
      "69  python3.11                          0x00000001051712e8 builtin_exec + 332\n",
      "70  python3.11                          0x00000001050c6c60 cfunction_vectorcall_FASTCALL_KEYWORDS + 76\n",
      "71  python3.11                          0x00000001051a8e40 _PyEval_EvalFrameDefault + 196800\n",
      "72  python3.11                          0x000000010506383c _PyFunction_Vectorcall + 476\n",
      "73  python3.11                          0x000000010523293c pymain_run_module + 212\n",
      "74  python3.11                          0x00000001052323d4 Py_RunMain + 1292\n",
      "75  python3.11                          0x0000000104ffb6bc main + 56\n",
      "76  dyld                                0x000000018df0be50 start + 2544\n",
      "1   HIToolbox                           0x00000001979e790c _ZN15MenuBarInstance22RemoveAutoShowObserverEv + 44\n",
      "2   HIToolbox                           0x0000000197a5cfbc _ZN15MenuBarInstance15DisableAutoShowEv + 36\n",
      "3   HIToolbox                           0x0000000197a5d0b0 _ZN15MenuBarInstanceD2Ev + 128\n",
      "4   HIToolbox                           0x0000000197a5cee0 _ZN15MenuBarInstance7ReleaseEv + 56\n",
      "5   AppKit                              0x0000000191bef5ec -[NSHIPresentationInstance discard] + 228\n",
      "6   AppKit                              0x0000000191faeb58 -[_NSFullScreenSpace(PresentationInstance) discardPresentationInstance] + 32\n",
      "7   AppKit                              0x0000000191faebb0 -[_NSFullScreenSpace(PresentationInstance) activateFullScreenPresentationOptions] + 64\n",
      "8   AppKit                              0x0000000191e08c20 -[_NSExitFullScreenTransitionController _doSucceededToExitFullScreen] + 40\n",
      "9   AppKit                              0x0000000191e096f8 __63-[_NSExitFullScreenTransitionController _performExitFullScreen]_block_invoke + 236\n",
      "10  libxpc.dylib                        0x000000018dfa622c _xpc_connection_reply_callout + 124\n",
      "11  libxpc.dylib                        0x000000018dfa611c _xpc_connection_call_reply_async + 88\n",
      "12  libdispatch.dylib                   0x000000018e0ae584 _dispatch_client_callout3 + 20\n",
      "13  libdispatch.dylib                   0x000000018e0cc710 _dispatch_mach_msg_async_reply_invoke + 344\n",
      "14  libdispatch.dylib                   0x000000018e0bcc70 _dispatch_main_queue_drain + 756\n",
      "15  libdispatch.dylib                   0x000000018e0bc96c _dispatch_main_queue_callback_4CF + 44\n",
      "16  CoreFoundation                      0x000000018e355d50 __CFRUNLOOP_IS_SERVICING_THE_MAIN_DISPATCH_QUEUE__ + 16\n",
      "17  CoreFoundation                      0x000000018e3137d0 __CFRunLoopRun + 2036\n",
      "18  CoreFoundation                      0x000000018e312888 CFRunLoopRunSpecific + 612\n",
      "19  HIToolbox                           0x00000001979e7fa0 RunCurrentEventLoopInMode + 292\n",
      "20  HIToolbox                           0x00000001979e7c30 ReceiveNextEventCommon + 236\n",
      "21  HIToolbox                           0x00000001979e7b2c _BlockUntilNextEventMatchingListInModeWithFilter + 72\n",
      "22  AppKit                              0x0000000191594424 _DPSNextEvent + 632\n",
      "23  AppKit                              0x00000001915935b4 -[NSApplication(NSEvent) _nextEventMatchingEventMask:untilDate:inMode:dequeue:] + 728\n",
      "24  cv2.abi3.so                         0x0000000135f34678 cvWaitKey + 684\n",
      "25  cv2.abi3.so                         0x0000000135f2e63c _ZN2cv9waitKeyExEi + 168\n",
      "26  cv2.abi3.so                         0x0000000135f2e734 _ZN2cv7waitKeyEi + 48\n",
      "27  cv2.abi3.so                         0x0000000135224868 _ZL19pyopencv_cv_waitKeyP7_objectS0_S0_ + 148\n",
      "28  python3.11                          0x00000001050c5fb0 cfunction_call + 60\n",
      "29  python3.11                          0x00000001051a9034 _PyEval_EvalFrameDefault + 197300\n",
      "30  python3.11                          0x000000010517630c _PyEval_Vector + 464\n",
      "31  python3.11                          0x00000001051760ac PyEval_EvalCode + 248\n",
      "32  python3.11                          0x00000001051712e8 builtin_exec + 332\n",
      "33  python3.11                          0x00000001051aca88 _PyEval_EvalFrameDefault + 212232\n",
      "34  python3.11                          0x0000000105080310 gen_send_ex2 + 204\n",
      "35  python3.11                          0x0000000105183a68 _PyEval_EvalFrameDefault + 44264\n",
      "36  python3.11                          0x0000000105080310 gen_send_ex2 + 204\n",
      "37  python3.11                          0x0000000105183a68 _PyEval_EvalFrameDefault + 44264\n",
      "38  python3.11                          0x0000000105080310 gen_send_ex2 + 204\n",
      "39  python3.11                          0x0000000105080a68 gen_send + 52\n",
      "40  python3.11                          0x0000000105074fd4 method_vectorcall_O + 104\n",
      "41  python3.11                          0x00000001051a8e40 _PyEval_EvalFrameDefault + 196800\n",
      "42  python3.11                          0x000000010506383c _PyFunction_Vectorcall + 476\n",
      "43  python3.11                          0x000000010506950c method_vectorcall + 272\n",
      "44  python3.11                          0x00000001051add40 _PyEval_EvalFrameDefault + 217024\n",
      "45  python3.11                          0x0000000105080310 gen_send_ex2 + 204\n",
      "46  python3.11                          0x0000000105183a68 _PyEval_EvalFrameDefault + 44264\n",
      "47  python3.11                          0x0000000105080310 gen_send_ex2 + 204\n",
      "48  python3.11                          0x0000000105183a68 _PyEval_EvalFrameDefault + 44264\n",
      "49  python3.11                          0x0000000105080310 gen_send_ex2 + 204\n",
      "50  python3.11                          0x0000000105183a68 _PyEval_EvalFrameDefault + 44264\n",
      "51  python3.11                          0x0000000105080310 gen_send_ex2 + 204\n",
      "52  python3.11                          0x0000000105183a68 _PyEval_EvalFrameDefault + 44264\n",
      "53  python3.11                          0x0000000105080310 gen_send_ex2 + 204\n",
      "54  _asyncio.cpython-311-darwin.so      0x0000000105d88370 task_step_impl + 440\n",
      "55  _asyncio.cpython-311-darwin.so      0x0000000105d88128 task_step + 68\n",
      "56  _asyncio.cpython-311-darwin.so      0x0000000105d88c30 task_wakeup + 136\n",
      "57  python3.11                          0x00000001050c6980 cfunction_vectorcall_O + 92\n",
      "58  python3.11                          0x00000001051d1ef8 _PyObject_VectorcallTstate.4603 + 88\n",
      "59  python3.11                          0x00000001051d1dbc context_run + 92\n",
      "60  python3.11                          0x00000001050c6c60 cfunction_vectorcall_FASTCALL_KEYWORDS + 76\n",
      "61  python3.11                          0x00000001051addec _PyEval_EvalFrameDefault + 217196\n",
      "62  python3.11                          0x000000010517630c _PyEval_Vector + 464\n",
      "63  python3.11                          0x00000001051760ac PyEval_EvalCode + 248\n",
      "64  python3.11                          0x00000001051712e8 builtin_exec + 332\n",
      "65  python3.11                          0x00000001050c6c60 cfunction_vectorcall_FASTCALL_KEYWORDS + 76\n",
      "66  python3.11                          0x00000001051a8e40 _PyEval_EvalFrameDefault + 196800\n",
      "67  python3.11                          0x000000010506383c _PyFunction_Vectorcall + 476\n",
      "68  python3.11                          0x000000010523293c pymain_run_module + 212\n",
      "69  python3.11                          0x00000001052323d4 Py_RunMain + 1292\n",
      "70  python3.11                          0x0000000104ffb6bc main + 56\n",
      "71  dyld                                0x000000018df0be50 start + 2544\n"
     ]
    }
   ],
   "source": [
    "merge('Twin2.png','Gradient.png',0.7,0.3)"
   ]
  },
  {
   "cell_type": "code",
   "execution_count": 12,
   "id": "fa6285d9",
   "metadata": {},
   "outputs": [
    {
     "data": {
      "text/plain": [
       "(6000, 4000, 3)"
      ]
     },
     "execution_count": 12,
     "metadata": {},
     "output_type": "execute_result"
    }
   ],
   "source": [
    "img.shape"
   ]
  },
  {
   "cell_type": "code",
   "execution_count": 13,
   "id": "4ab77fa0",
   "metadata": {},
   "outputs": [
    {
     "data": {
      "text/plain": [
       "(7360, 4912, 3)"
      ]
     },
     "execution_count": 13,
     "metadata": {},
     "output_type": "execute_result"
    }
   ],
   "source": [
    "background.shape"
   ]
  },
  {
   "cell_type": "code",
   "execution_count": 17,
   "id": "4598ad51",
   "metadata": {},
   "outputs": [
    {
     "data": {
      "text/plain": [
       "(6000, 4000, 3)"
      ]
     },
     "execution_count": 17,
     "metadata": {},
     "output_type": "execute_result"
    }
   ],
   "source": [
    "background.shape"
   ]
  },
  {
   "cell_type": "code",
   "execution_count": null,
   "id": "09f230c7",
   "metadata": {},
   "outputs": [],
   "source": []
  }
 ],
 "metadata": {
  "kernelspec": {
   "display_name": "Python 3 (ipykernel)",
   "language": "python",
   "name": "python3"
  },
  "language_info": {
   "codemirror_mode": {
    "name": "ipython",
    "version": 3
   },
   "file_extension": ".py",
   "mimetype": "text/x-python",
   "name": "python",
   "nbconvert_exporter": "python",
   "pygments_lexer": "ipython3",
   "version": "3.11.5"
  }
 },
 "nbformat": 4,
 "nbformat_minor": 5
}
