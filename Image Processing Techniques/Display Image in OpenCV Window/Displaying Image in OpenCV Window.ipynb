{
 "cells": [
  {
   "cell_type": "code",
   "execution_count": 1,
   "id": "3fd728b6",
   "metadata": {},
   "outputs": [],
   "source": [
    "import cv2 as cv\n",
    "import numpy as np\n",
    "import matplotlib.pyplot as plt"
   ]
  },
  {
   "cell_type": "markdown",
   "id": "5efbf3c7",
   "metadata": {},
   "source": [
    "### 1. Loading an Image using OpenCV"
   ]
  },
  {
   "cell_type": "code",
   "execution_count": 6,
   "id": "849ad7e5",
   "metadata": {},
   "outputs": [],
   "source": [
    "img = cv.imread('rgb.jpeg')\n",
    "img = cv.cvtColor(img,cv.COLOR_RGB2BGR)\n",
    "\n",
    "# Displaying image as a Live Feed/ New Window\n",
    "# Defining window name\n",
    "cv.imshow(\"Image\",img)\n",
    "# Adding delay in milliseconds\n",
    "cv.waitKey(0) # Wait indefinitely until a key is pressed\n",
    "# Returns ascii value associated to Key\n",
    "\n",
    "img = cv.imread('Transition.jpg')\n",
    "img = cv.cvtColor(img,cv.COLOR_RGB2BGR)\n",
    "cv.imshow(\"Image\",img)\n",
    "cv.waitKey(0) \n",
    "\n",
    "cv.destroyAllWindows()"
   ]
  },
  {
   "cell_type": "markdown",
   "id": "5cc588b3",
   "metadata": {},
   "source": [
    "### 2. Displaying 3 Frames on RGB"
   ]
  },
  {
   "cell_type": "code",
   "execution_count": null,
   "id": "2c569d50",
   "metadata": {},
   "outputs": [],
   "source": [
    "img = cv.imread('rgb.jpeg')\n",
    "img = cv.cvtColor(img,cv.COLOR_RGB2BGR)\n",
    "\n",
    "r = img[:,:,0]\n",
    "g = img[:,:,1]\n",
    "b = img[:,:,2]\n",
    "\n",
    "cv.imshow(\"Red\",r)\n",
    "cv.waitKey(0) \n",
    "\n",
    "cv.imshow(\"Green\",g)\n",
    "cv.waitKey(0) \n",
    "\n",
    "cv.imshow(\"Blue\",b)\n",
    "cv.waitKey(0) "
   ]
  },
  {
   "cell_type": "code",
   "execution_count": null,
   "id": "970164ed",
   "metadata": {},
   "outputs": [],
   "source": []
  }
 ],
 "metadata": {
  "kernelspec": {
   "display_name": "Python 3 (ipykernel)",
   "language": "python",
   "name": "python3"
  },
  "language_info": {
   "codemirror_mode": {
    "name": "ipython",
    "version": 3
   },
   "file_extension": ".py",
   "mimetype": "text/x-python",
   "name": "python",
   "nbconvert_exporter": "python",
   "pygments_lexer": "ipython3",
   "version": "3.11.5"
  }
 },
 "nbformat": 4,
 "nbformat_minor": 5
}
