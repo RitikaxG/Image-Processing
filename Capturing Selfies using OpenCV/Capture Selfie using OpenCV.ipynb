{
 "cells": [
  {
   "cell_type": "code",
   "execution_count": 1,
   "id": "9e34ee8e",
   "metadata": {},
   "outputs": [],
   "source": [
    "import cv2 as cv\n",
    "import numpy as np\n",
    "import matplotlib.pyplot as plt"
   ]
  },
  {
   "cell_type": "code",
   "execution_count": 6,
   "id": "a8112d4a",
   "metadata": {},
   "outputs": [],
   "source": [
    "cam = cv.VideoCapture(0)\n",
    "while True:\n",
    "    _, img = cam.read()\n",
    "    \n",
    "    # Converting into Greyscale img\n",
    "    grey = cv.cvtColor(img,cv.COLOR_RGB2GRAY)\n",
    "    hsv  = cv.cvtColor(img,cv.COLOR_RGB2HSV)\n",
    "    cv.imshow(\"Frame\",img)\n",
    "    \n",
    "    key = cv.waitKey(20)\n",
    "    \n",
    "    # Capture a selfie on pressing enter\n",
    "    if(key==13):\n",
    "        cv.imwrite('Selfie.png',img)\n",
    "        cv.imwrite('Selfie_Grey.png',grey)\n",
    "        cv.imwrite('Selfie_HSV.png',hsv)\n",
    "        cam.release()\n",
    "        break"
   ]
  },
  {
   "cell_type": "markdown",
   "id": "a56121c4",
   "metadata": {},
   "source": [
    "### Clicking Multiple Selfies using OpenCV"
   ]
  },
  {
   "cell_type": "code",
   "execution_count": 7,
   "id": "00dff9d5",
   "metadata": {},
   "outputs": [],
   "source": [
    "cam = cv.VideoCapture(0)\n",
    "c   = 1\n",
    "while True:\n",
    "    _, img = cam.read()\n",
    "    cv.imshow(\"Frame\",img)\n",
    "    \n",
    "    key = cv.waitKey(20)\n",
    "    # Capture a selfie on pressing enter\n",
    "    if(key==13):\n",
    "        cv.imwrite('Selfies/Selfie_'+str(c)+'.png',img)\n",
    "        c +=1\n",
    "    # On pressing ESC program will terminate\n",
    "    if(key==27):\n",
    "        cam.release()\n",
    "        break"
   ]
  },
  {
   "cell_type": "code",
   "execution_count": null,
   "id": "4afce7b0",
   "metadata": {},
   "outputs": [],
   "source": []
  }
 ],
 "metadata": {
  "kernelspec": {
   "display_name": "Python 3 (ipykernel)",
   "language": "python",
   "name": "python3"
  },
  "language_info": {
   "codemirror_mode": {
    "name": "ipython",
    "version": 3
   },
   "file_extension": ".py",
   "mimetype": "text/x-python",
   "name": "python",
   "nbconvert_exporter": "python",
   "pygments_lexer": "ipython3",
   "version": "3.11.5"
  }
 },
 "nbformat": 4,
 "nbformat_minor": 5
}
