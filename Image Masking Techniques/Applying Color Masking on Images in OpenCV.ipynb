{
 "cells": [
  {
   "cell_type": "code",
   "execution_count": 1,
   "id": "5563f5e7",
   "metadata": {},
   "outputs": [],
   "source": [
    "import cv2 as cv\n",
    "import numpy as np\n",
    "import matplotlib.pyplot as plt"
   ]
  },
  {
   "cell_type": "code",
   "execution_count": 4,
   "id": "2f831fa0",
   "metadata": {},
   "outputs": [
    {
     "data": {
      "text/plain": [
       "27"
      ]
     },
     "execution_count": 4,
     "metadata": {},
     "output_type": "execute_result"
    }
   ],
   "source": [
    "# To Detect a particular color in an image mention it lower and upper range of RGB value\n",
    "lower = np.array([20,30,150])\n",
    "upper = np.array([60,80,220])\n",
    "\n",
    "img = cv.imread(\"pic5.jpg\")\n",
    "    \n",
    "mask = cv.blur(img,(4,4))\n",
    "mask = cv.inRange(mask,lower,upper)\n",
    "    \n",
    "cv.imshow(\"Frame-1\",img)\n",
    "cv.imshow(\"Maks-1\",mask)\n",
    "    \n",
    "cv.waitKey(0)"
   ]
  },
  {
   "cell_type": "code",
   "execution_count": 3,
   "id": "e0d7b6db",
   "metadata": {},
   "outputs": [
    {
     "data": {
      "text/plain": [
       "27"
      ]
     },
     "execution_count": 3,
     "metadata": {},
     "output_type": "execute_result"
    }
   ],
   "source": [
    "# Identifying White spots\n",
    "lower = np.array([0,0,0])\n",
    "upper = np.array([250,250,250])\n",
    "\n",
    "img = cv.imread(\"wine.jpg\")\n",
    "    \n",
    "mask = cv.blur(img,(4,4))\n",
    "mask = cv.inRange(mask,lower,upper)\n",
    "    \n",
    "cv.imshow(\"Frame-1\",img)\n",
    "cv.imshow(\"Mask-1\",mask)\n",
    "    \n",
    "cv.waitKey(0)"
   ]
  },
  {
   "cell_type": "code",
   "execution_count": null,
   "id": "42de0784",
   "metadata": {},
   "outputs": [],
   "source": [
    "# lower = np.array([30,50,150])\n",
    "# upper = np.array([80,110,230])\n",
    "lower = np.array([30,30,30])\n",
    "upper = np.array([150,150,150])\n",
    "\n",
    "img = cv.imread(\"shoe.jpg\")\n",
    "    \n",
    "mask = cv.blur(img,(4,4))\n",
    "mask = cv.inRange(mask,lower,upper)\n",
    "    \n",
    "cv.imshow(\"Frame-1\",img)\n",
    "cv.imshow(\"Mask-1\",mask)\n",
    "    \n",
    "cv.waitKey(0)"
   ]
  },
  {
   "cell_type": "code",
   "execution_count": null,
   "id": "2ed8c3ed",
   "metadata": {},
   "outputs": [],
   "source": [
    "lower = np.array([10,10,10])\n",
    "upper = np.array([110,110,110])\n",
    "\n",
    "img = cv.imread(\"shoe.jpg\")\n",
    "    \n",
    "mask = cv.blur(img,(8,8))\n",
    "mask = cv.inRange(mask,lower,upper)\n",
    "    \n",
    "cv.imshow(\"Frame-1\",img)\n",
    "cv.imshow(\"Mask-1\",mask)\n",
    "    \n",
    "cv.waitKey(0)"
   ]
  },
  {
   "cell_type": "code",
   "execution_count": null,
   "id": "b7acc6cd",
   "metadata": {},
   "outputs": [],
   "source": []
  }
 ],
 "metadata": {
  "kernelspec": {
   "display_name": "Python 3 (ipykernel)",
   "language": "python",
   "name": "python3"
  },
  "language_info": {
   "codemirror_mode": {
    "name": "ipython",
    "version": 3
   },
   "file_extension": ".py",
   "mimetype": "text/x-python",
   "name": "python",
   "nbconvert_exporter": "python",
   "pygments_lexer": "ipython3",
   "version": "3.11.5"
  }
 },
 "nbformat": 4,
 "nbformat_minor": 5
}
