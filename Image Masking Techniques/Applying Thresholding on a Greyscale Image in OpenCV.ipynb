{
 "cells": [
  {
   "cell_type": "code",
   "execution_count": 1,
   "id": "7cf1a414",
   "metadata": {},
   "outputs": [],
   "source": [
    "import cv2 as cv\n",
    "import numpy as np\n",
    "import matplotlib.pyplot as plt"
   ]
  },
  {
   "cell_type": "code",
   "execution_count": 4,
   "id": "40671a41",
   "metadata": {},
   "outputs": [],
   "source": [
    "cam = cv.VideoCapture(0)\n",
    "while True:\n",
    "    _, img = cam.read()\n",
    "    img = cv.resize(img,(int(1280/2),int(720/2)))\n",
    "    img = cv.flip(img,1)\n",
    "    \n",
    "    grayscale = cv.cvtColor(img,cv.COLOR_BGR2GRAY)\n",
    "    \n",
    "    gray_thr_1 = grayscale.copy()\n",
    "    gray_thr_1[gray_thr_1 > 200] = 30  # Gives black background\n",
    "    \n",
    "    gray_thr_2 = grayscale.copy()\n",
    "    gray_thr_2[gray_thr_2 < 200] = 100  # Gives white background\n",
    "    \n",
    "    \n",
    "    cv.imshow('Original',img)\n",
    "    cv.imshow('Grayscale',grayscale)\n",
    "    cv.imshow('Gray_Threshold1',gray_thr_1)\n",
    "    cv.imshow('Gray_Thr2',gray_thr_2)\n",
    "    \n",
    "    if(cv.waitKey(1)==27):\n",
    "        cam.release()\n",
    "        break"
   ]
  },
  {
   "cell_type": "code",
   "execution_count": null,
   "id": "7a7b8ac7",
   "metadata": {},
   "outputs": [],
   "source": []
  }
 ],
 "metadata": {
  "kernelspec": {
   "display_name": "Python 3 (ipykernel)",
   "language": "python",
   "name": "python3"
  },
  "language_info": {
   "codemirror_mode": {
    "name": "ipython",
    "version": 3
   },
   "file_extension": ".py",
   "mimetype": "text/x-python",
   "name": "python",
   "nbconvert_exporter": "python",
   "pygments_lexer": "ipython3",
   "version": "3.11.5"
  }
 },
 "nbformat": 4,
 "nbformat_minor": 5
}
