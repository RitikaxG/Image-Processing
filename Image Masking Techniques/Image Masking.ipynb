{
 "cells": [
  {
   "cell_type": "code",
   "execution_count": 2,
   "id": "b999bbb7",
   "metadata": {},
   "outputs": [],
   "source": [
    "import cv2 as cv\n",
    "import numpy as np\n",
    "import matplotlib.pyplot as plt"
   ]
  },
  {
   "cell_type": "code",
   "execution_count": 6,
   "id": "0e32bd6c",
   "metadata": {},
   "outputs": [],
   "source": [
    "cam = cv.VideoCapture(0)\n",
    "lower = np.array([160,170,160])\n",
    "upper = np.array([255,255,255])\n",
    "\n",
    "while True:\n",
    "    _, img = cam.read()\n",
    "    img = cv.flip(img,1)\n",
    "    \n",
    "    mask = cv.blur(img,(4,4))\n",
    "    mask = cv.inRange(mask,lower,upper)\n",
    "    \n",
    "    cv.imshow(\"Frame\",img)\n",
    "    cv.imshow(\"Masked\",mask)\n",
    "    \n",
    "    if(cv.waitKey(1)==27):\n",
    "        cam.release()\n",
    "        break\n",
    "cam.release()\n",
    "# Since, green is a colour that does not match with our skin tone \n",
    "# it can be masked easily"
   ]
  },
  {
   "cell_type": "code",
   "execution_count": null,
   "id": "09660ee8",
   "metadata": {},
   "outputs": [],
   "source": []
  },
  {
   "cell_type": "code",
   "execution_count": null,
   "id": "f569b262",
   "metadata": {},
   "outputs": [],
   "source": []
  }
 ],
 "metadata": {
  "kernelspec": {
   "display_name": "Python 3 (ipykernel)",
   "language": "python",
   "name": "python3"
  },
  "language_info": {
   "codemirror_mode": {
    "name": "ipython",
    "version": 3
   },
   "file_extension": ".py",
   "mimetype": "text/x-python",
   "name": "python",
   "nbconvert_exporter": "python",
   "pygments_lexer": "ipython3",
   "version": "3.11.5"
  }
 },
 "nbformat": 4,
 "nbformat_minor": 5
}
