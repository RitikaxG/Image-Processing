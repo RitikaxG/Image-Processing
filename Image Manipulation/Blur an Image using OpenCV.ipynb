{
 "cells": [
  {
   "cell_type": "code",
   "execution_count": 1,
   "id": "538be0df",
   "metadata": {},
   "outputs": [],
   "source": [
    "import cv2 as cv\n",
    "import numpy as np\n",
    "import matplotlib.pyplot as plt"
   ]
  },
  {
   "cell_type": "markdown",
   "id": "2e3ebe49",
   "metadata": {},
   "source": [
    "### Realtime Blur"
   ]
  },
  {
   "cell_type": "code",
   "execution_count": 3,
   "id": "29b02a51",
   "metadata": {},
   "outputs": [],
   "source": [
    "cam = cv.VideoCapture(0)\n",
    "while True:\n",
    "    _, img = cam.read()\n",
    "    img = cv.flip(img,1)\n",
    "    \n",
    "    # (2,2) : Kernel size\n",
    "    blr_1 = cv.blur(img,(2,2))\n",
    "    blr_2 = cv.blur(img,(4,4))\n",
    "    blr_3 = cv.blur(img,(8,8))\n",
    "    blr_4 = cv.blur(img,(16,16))\n",
    "    blr_5 = cv.blur(img,(32,32))\n",
    "    \n",
    "    cv.imshow(\"Frame\",img)\n",
    "    cv.imshow(\"Blur-1\",blr_1)\n",
    "    cv.imshow(\"Blur-2\",blr_2)\n",
    "    cv.imshow(\"Blur-3\",blr_3)\n",
    "    cv.imshow(\"Blur-4\",blr_4)\n",
    "    cv.imshow(\"Blur-5\",blr_5)\n",
    "    \n",
    "    \n",
    "    if (cv.waitKey(10)==27):\n",
    "        cam.release()\n",
    "        break"
   ]
  },
  {
   "cell_type": "code",
   "execution_count": null,
   "id": "2eb879bd",
   "metadata": {},
   "outputs": [],
   "source": []
  }
 ],
 "metadata": {
  "kernelspec": {
   "display_name": "Python 3 (ipykernel)",
   "language": "python",
   "name": "python3"
  },
  "language_info": {
   "codemirror_mode": {
    "name": "ipython",
    "version": 3
   },
   "file_extension": ".py",
   "mimetype": "text/x-python",
   "name": "python",
   "nbconvert_exporter": "python",
   "pygments_lexer": "ipython3",
   "version": "3.11.5"
  }
 },
 "nbformat": 4,
 "nbformat_minor": 5
}
