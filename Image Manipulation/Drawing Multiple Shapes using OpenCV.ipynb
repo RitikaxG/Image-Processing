{
 "cells": [
  {
   "cell_type": "code",
   "execution_count": 1,
   "id": "7fe551af",
   "metadata": {},
   "outputs": [],
   "source": [
    "import cv2 as cv\n",
    "import numpy as np\n",
    "import matplotlib.pyplot as plt"
   ]
  },
  {
   "cell_type": "markdown",
   "id": "b1b55ac8",
   "metadata": {},
   "source": [
    "### 1. Drawing Rectangle"
   ]
  },
  {
   "cell_type": "code",
   "execution_count": 8,
   "id": "1a8476dd",
   "metadata": {},
   "outputs": [],
   "source": [
    "cam = cv.VideoCapture(0)\n",
    "while True:\n",
    "    _,img = cam.read()\n",
    "    # Parameters :\n",
    "    # Image (img) : where you want to draw the rectangle\n",
    "    # Specify (pt1,pt2): Top-left & Bottom-Right point\n",
    "    # Define color in bgr format\n",
    "    # Thickness of rectangle borders\n",
    "    cv.rectangle(img,(400,100),(800,600),(0,0,0),3)\n",
    "    cv.rectangle(img,(395,95),(805,605),(255,255,255),3)\n",
    "    cv.rectangle(img,(390,90),(810,610),(0,255,0),3)\n",
    "    \n",
    "    cv.imshow(\"Frame\",img)\n",
    "    key = cv.waitKey(10)\n",
    "    \n",
    "    if(key == 27):\n",
    "        cam.release()\n",
    "        break"
   ]
  },
  {
   "cell_type": "markdown",
   "id": "30370d69",
   "metadata": {},
   "source": [
    "### 2. Drawing a Circle"
   ]
  },
  {
   "cell_type": "code",
   "execution_count": 17,
   "id": "5a646dc9",
   "metadata": {},
   "outputs": [],
   "source": [
    "cam = cv.VideoCapture(0)\n",
    "while True:\n",
    "    _,img = cam.read()\n",
    "    \n",
    "    # 250 : radius of circle\n",
    "    img = cv.circle(img,(640,360),650,(224,120,180),200)\n",
    "    cv.imshow(\"Frame\",img)\n",
    "    key = cv.waitKey(10)\n",
    "    \n",
    "    if(key == 27):\n",
    "        cam.release()\n",
    "        break"
   ]
  },
  {
   "cell_type": "markdown",
   "id": "0b841cb1",
   "metadata": {},
   "source": [
    "### 3. Writing Text"
   ]
  },
  {
   "cell_type": "code",
   "execution_count": 22,
   "id": "97477a2d",
   "metadata": {},
   "outputs": [],
   "source": [
    "cam = cv.VideoCapture(0)\n",
    "while True:\n",
    "    _,img = cam.read()\n",
    "    \n",
    "    # (640,360) : orientation : where you want to add the text\n",
    "    # FontFace, FontScale, Color, Thickness\n",
    "    img = cv.putText(img,'Why so serious?',(100,100), cv.FONT_HERSHEY_SCRIPT_COMPLEX,2,(234,199,88),2)\n",
    "    cv.imshow(\"Frame\",img)\n",
    "    key = cv.waitKey(10)\n",
    "    if(key==27):\n",
    "        cam.release()\n",
    "        break"
   ]
  },
  {
   "cell_type": "code",
   "execution_count": null,
   "id": "5f352d5b",
   "metadata": {},
   "outputs": [],
   "source": []
  }
 ],
 "metadata": {
  "kernelspec": {
   "display_name": "Python 3 (ipykernel)",
   "language": "python",
   "name": "python3"
  },
  "language_info": {
   "codemirror_mode": {
    "name": "ipython",
    "version": 3
   },
   "file_extension": ".py",
   "mimetype": "text/x-python",
   "name": "python",
   "nbconvert_exporter": "python",
   "pygments_lexer": "ipython3",
   "version": "3.11.5"
  }
 },
 "nbformat": 4,
 "nbformat_minor": 5
}
