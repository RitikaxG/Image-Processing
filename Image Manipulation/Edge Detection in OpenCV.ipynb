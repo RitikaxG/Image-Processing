{
 "cells": [
  {
   "cell_type": "code",
   "execution_count": 1,
   "id": "db1ee4a7",
   "metadata": {},
   "outputs": [],
   "source": [
    "import cv2 as cv\n",
    "import numpy as np\n",
    "import matplotlib.pyplot as plt"
   ]
  },
  {
   "cell_type": "markdown",
   "id": "fa62fb63",
   "metadata": {},
   "source": [
    "### 1. Edge Detection"
   ]
  },
  {
   "cell_type": "code",
   "execution_count": 2,
   "id": "49038238",
   "metadata": {},
   "outputs": [],
   "source": [
    "cam = cv.VideoCapture(0)\n",
    "while True:\n",
    "    _, img = cam.read()\n",
    "    img = cv.flip(img,1)\n",
    "    \n",
    "    # Threshold value : Where to start and where to end\n",
    "    edge_1 = cv.Canny(img,0,50)\n",
    "    edge_2 = cv.Canny(img,50,100)\n",
    "    edge_3 = cv.Canny(img,100,150)\n",
    "    edge_4 = cv.Canny(img,150,200)\n",
    "    edge_5 = cv.Canny(img,200,250)\n",
    "    \n",
    "    cv.imshow(\"Frame\",img)\n",
    "    \n",
    "    cv.imshow(\"Edge1\",edge_1)\n",
    "    cv.imshow(\"Edge2\",edge_2)\n",
    "    cv.imshow(\"Edge3\",edge_3)\n",
    "    cv.imshow(\"Edge4\",edge_4)\n",
    "    cv.imshow(\"Edge5\",edge_5)\n",
    "    \n",
    "    if cv.waitKey(10) == 27:\n",
    "        cam.release()\n",
    "        break"
   ]
  },
  {
   "cell_type": "code",
   "execution_count": null,
   "id": "ba1621ae",
   "metadata": {},
   "outputs": [],
   "source": []
  }
 ],
 "metadata": {
  "kernelspec": {
   "display_name": "Python 3 (ipykernel)",
   "language": "python",
   "name": "python3"
  },
  "language_info": {
   "codemirror_mode": {
    "name": "ipython",
    "version": 3
   },
   "file_extension": ".py",
   "mimetype": "text/x-python",
   "name": "python",
   "nbconvert_exporter": "python",
   "pygments_lexer": "ipython3",
   "version": "3.11.5"
  }
 },
 "nbformat": 4,
 "nbformat_minor": 5
}
