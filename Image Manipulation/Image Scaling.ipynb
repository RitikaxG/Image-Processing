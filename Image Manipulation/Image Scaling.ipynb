{
 "cells": [
  {
   "cell_type": "code",
   "execution_count": 3,
   "id": "e1e1f7c5",
   "metadata": {},
   "outputs": [],
   "source": [
    "import cv2 as cv\n",
    "import numpy as np\n",
    "import matplotlib.pyplot as plt"
   ]
  },
  {
   "cell_type": "markdown",
   "id": "8eb4b5c7",
   "metadata": {},
   "source": [
    "### 1. Image Scaling\n",
    "#### Downscaling the image"
   ]
  },
  {
   "cell_type": "code",
   "execution_count": 4,
   "id": "28b5efa6",
   "metadata": {},
   "outputs": [],
   "source": [
    "cam = cv.VideoCapture(0)\n",
    "while True:\n",
    "    _, img = cam.read()\n",
    "    img = cv.flip(img,1)\n",
    "    \n",
    "    # Resizing the image\n",
    "    # Parameter : image to be resized , size to which image is to be resized\n",
    "    # Downscaling an image by 2\n",
    "    resized_1 = cv.resize(img,(int(img.shape[1]/2),int(img.shape[0]/2)))\n",
    "    resized_2 = cv.resize(img,(int(img.shape[1]/4),int(img.shape[0]/4)))\n",
    "    resized_3 = cv.resize(img,(int(img.shape[1]/8),int(img.shape[0]/8)))\n",
    "    resized_4 = cv.resize(img,(int(img.shape[1]/16),int(img.shape[0]/16)))\n",
    "\n",
    "\n",
    "    cv.imshow(\"Original\",img)\n",
    "    cv.imshow(\"Resized1\",resized_1)\n",
    "    cv.imshow(\"Resized2\",resized_2)\n",
    "    cv.imshow(\"Resized3\",resized_3)\n",
    "    cv.imshow(\"Resized4\",resized_4)\n",
    "    \n",
    "    if(cv.waitKey(10)==27):\n",
    "        cam.release()\n",
    "        break"
   ]
  },
  {
   "cell_type": "code",
   "execution_count": 4,
   "id": "6874f16e",
   "metadata": {},
   "outputs": [
    {
     "data": {
      "text/plain": [
       "(720, 1280, 3)"
      ]
     },
     "execution_count": 4,
     "metadata": {},
     "output_type": "execute_result"
    }
   ],
   "source": [
    "img.shape # aspect ratio of image = 720/1280 = 0.5625\n",
    "# On downscaling the whole image by 2, the size would be 720/2= 360, 1280/2=640"
   ]
  },
  {
   "cell_type": "code",
   "execution_count": 5,
   "id": "2fa84c82",
   "metadata": {},
   "outputs": [
    {
     "data": {
      "text/plain": [
       "(500, 500, 3)"
      ]
     },
     "execution_count": 5,
     "metadata": {},
     "output_type": "execute_result"
    }
   ],
   "source": [
    "resized.shape # aspect ratio = 500/500 =1 "
   ]
  },
  {
   "cell_type": "markdown",
   "id": "d4d4ddd2",
   "metadata": {},
   "source": [
    "* To resize the image without distortion there aspect ratio should be same."
   ]
  },
  {
   "cell_type": "markdown",
   "id": "a47b4a62",
   "metadata": {},
   "source": [
    "### 2. Upscaling the Image"
   ]
  },
  {
   "cell_type": "code",
   "execution_count": 5,
   "id": "0df8fbba",
   "metadata": {},
   "outputs": [],
   "source": [
    "cam = cv.VideoCapture(0)\n",
    "while True:\n",
    "    _, img = cam.read()\n",
    "    img = cv.flip(img,1)\n",
    "    \n",
    "    resized_1 = cv.resize(img,      (int(img.shape[1]/4),int(img.shape[0]/4)))\n",
    "    resized_2 = cv.resize(resized_1,(int(resized_1.shape[1]*4),int(resized_1.shape[0]*4)))\n",
    "   \n",
    "    cv.imshow(\"Original\",img)\n",
    "    cv.imshow(\"Downscaled\",resized_1)\n",
    "    cv.imshow(\"Upscaled\",resized_2) # is a pixelated image \n",
    "    # we have stretched the image\n",
    "    \n",
    "    if(cv.waitKey(10)==27):\n",
    "        cam.release()\n",
    "        break"
   ]
  },
  {
   "cell_type": "code",
   "execution_count": null,
   "id": "ee5260bb",
   "metadata": {},
   "outputs": [],
   "source": []
  }
 ],
 "metadata": {
  "kernelspec": {
   "display_name": "Python 3 (ipykernel)",
   "language": "python",
   "name": "python3"
  },
  "language_info": {
   "codemirror_mode": {
    "name": "ipython",
    "version": 3
   },
   "file_extension": ".py",
   "mimetype": "text/x-python",
   "name": "python",
   "nbconvert_exporter": "python",
   "pygments_lexer": "ipython3",
   "version": "3.11.5"
  }
 },
 "nbformat": 4,
 "nbformat_minor": 5
}
