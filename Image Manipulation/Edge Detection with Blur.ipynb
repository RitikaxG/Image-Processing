{
 "cells": [
  {
   "cell_type": "code",
   "execution_count": 1,
   "id": "9848dbc7",
   "metadata": {},
   "outputs": [],
   "source": [
    "import cv2 as cv\n",
    "import numpy as np\n",
    "import matplotlib.pyplot as plt"
   ]
  },
  {
   "cell_type": "markdown",
   "id": "9518d31b",
   "metadata": {},
   "source": [
    "### 1. Realtime Blur"
   ]
  },
  {
   "cell_type": "code",
   "execution_count": 2,
   "id": "246e362f",
   "metadata": {},
   "outputs": [],
   "source": [
    "cam = cv.VideoCapture(0)\n",
    "while True:\n",
    "    _, img = cam.read()\n",
    "    \n",
    "    img = cv.flip(img,1)\n",
    "    \n",
    "    blr = cv.blur(img,(3,3)) # Blur on Original frame\n",
    "    edg = cv.Canny(img,100,200) # Edge Detection on original frame\n",
    "    # Perform edge detection on blur image\n",
    "    fin = cv.Canny(blr,100,200)\n",
    "    \n",
    "    cv.imshow(\"Original Frame\",img)\n",
    "    cv.imshow(\"Blur\",blr)\n",
    "    cv.imshow(\"Edges\",edg)\n",
    "    cv.imshow(\"Final\",fin)\n",
    "    \n",
    "    if cv.waitKey(10) == 27:\n",
    "        cam.release()\n",
    "        break"
   ]
  }
 ],
 "metadata": {
  "kernelspec": {
   "display_name": "Python 3 (ipykernel)",
   "language": "python",
   "name": "python3"
  },
  "language_info": {
   "codemirror_mode": {
    "name": "ipython",
    "version": 3
   },
   "file_extension": ".py",
   "mimetype": "text/x-python",
   "name": "python",
   "nbconvert_exporter": "python",
   "pygments_lexer": "ipython3",
   "version": "3.11.5"
  }
 },
 "nbformat": 4,
 "nbformat_minor": 5
}
